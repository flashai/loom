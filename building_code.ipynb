{
 "cells": [
  {
   "cell_type": "markdown",
   "metadata": {},
   "source": [
    "# Calculate Brightness"
   ]
  },
  {
   "cell_type": "code",
   "execution_count": 1,
   "metadata": {
    "collapsed": true
   },
   "outputs": [],
   "source": [
    "import math\n",
    "from PIL import ImageStat, Image"
   ]
  },
  {
   "cell_type": "code",
   "execution_count": 2,
   "metadata": {
    "collapsed": true
   },
   "outputs": [],
   "source": [
    "def brightness(frame):\n",
    "    frame = Image.fromarray(cv2.cvtColor(frame, cv2.COLOR_BGR2RGB))\n",
    "    stat = ImageStat.Stat(frame)\n",
    "    r,g,b = stat.mean\n",
    "    return math.sqrt(0.241*(r**2) + 0.691*(g**2) + 0.068*(b**2))"
   ]
  },
  {
   "cell_type": "markdown",
   "metadata": {},
   "source": [
    "# Stream Data from Youtube"
   ]
  },
  {
   "cell_type": "code",
   "execution_count": 3,
   "metadata": {
    "collapsed": true
   },
   "outputs": [],
   "source": [
    "import pafy\n",
    "import youtube_dl\n",
    "import cv2\n",
    "import numpy as np"
   ]
  },
  {
   "cell_type": "code",
   "execution_count": 4,
   "metadata": {
    "collapsed": true
   },
   "outputs": [],
   "source": [
    "def stream_data1(url):\n",
    "    vPafy = pafy.new(url)\n",
    "    play = vPafy.getbest(preftype=\"webm\")\n",
    "\n",
    "    #start the video\n",
    "    cap = cv2.VideoCapture(play.url)\n",
    "    frames = []\n",
    "    brightness_vals = [] #avg brightness for each frame\n",
    "\n",
    "    while (True):\n",
    "        ret,frame = cap.read()\n",
    "        if type(frame) == type(None):\n",
    "            break\n",
    "        frames.append(frame)\n",
    "        brightness_vals.append(brightness(frame))\n",
    "        if cv2.waitKey(20) & 0xFF == ord('q'):\n",
    "            break    \n",
    "\n",
    "    cap.release()\n",
    "    return brightness_vals, frames;\n",
    "\n",
    "def stream_data2(url):\n",
    "    vPafy = pafy.new(url)\n",
    "    play = vPafy.getbest(preftype=\"webm\")\n",
    "\n",
    "    #start the video\n",
    "    cap = cv2.VideoCapture(play.url)\n",
    "    brightness_vals = [] #avg brightness for each frame\n",
    "\n",
    "    while (True):\n",
    "        ret,frame = cap.read()\n",
    "        if type(frame) == type(None):\n",
    "            break\n",
    "        brightness_vals.append(brightness(frame))\n",
    "        if cv2.waitKey(20) & 0xFF == ord('q'):\n",
    "            break    \n",
    "\n",
    "    cap.release()\n",
    "    return brightness_vals"
   ]
  },
  {
   "cell_type": "code",
   "execution_count": 5,
   "metadata": {
    "collapsed": true
   },
   "outputs": [],
   "source": [
    "url_list = ['https://www.youtube.com/watch?v=Q2c2mPpvcpw',\n",
    "            'https://www.youtube.com/watch?v=J8E1g-cHV5M',\n",
    "            'https://www.youtube.com/watch?v=hf9k3Xb5x6Y',\n",
    "            'https://www.youtube.com/watch?v=1upXsnnPf2o',\n",
    "            'https://www.youtube.com/watch?v=Q1IRVcPOXyY',\n",
    "            'https://www.youtube.com/watch?v=Hq2SlCja3zo']\n",
    "X_train =[]\n",
    "\n",
    "for url in url_list:\n",
    "    X_train = X_train + stream_data2(url)\n",
    "    "
   ]
  },
  {
   "cell_type": "markdown",
   "metadata": {},
   "source": [
    "# Prep Data for Model"
   ]
  },
  {
   "cell_type": "code",
   "execution_count": 8,
   "metadata": {
    "collapsed": true
   },
   "outputs": [],
   "source": [
    "from sklearn.preprocessing import StandardScaler\n",
    "from sklearn.externals import joblib"
   ]
  },
  {
   "cell_type": "code",
   "execution_count": 9,
   "metadata": {},
   "outputs": [
    {
     "data": {
      "text/plain": [
       "['scaler.save']"
      ]
     },
     "execution_count": 9,
     "metadata": {},
     "output_type": "execute_result"
    }
   ],
   "source": [
    "scaler = StandardScaler()\n",
    "X_train_scaled = np.array(X_train).reshape(-1, 1)\n",
    "scaler.fit(X_train_scaled)\n",
    "scaler_filename = \"scaler.save\"\n",
    "joblib.dump(scaler, scaler_filename)"
   ]
  },
  {
   "cell_type": "code",
   "execution_count": 10,
   "metadata": {
    "collapsed": true
   },
   "outputs": [],
   "source": [
    "X_train_scaled = scaler.transform(X_train_scaled)"
   ]
  },
  {
   "cell_type": "code",
   "execution_count": 11,
   "metadata": {
    "collapsed": true
   },
   "outputs": [],
   "source": [
    "def make_windows(data, size):\n",
    "    X = []\n",
    "    i = 0\n",
    "    while(i+size) <= len(data)-1:\n",
    "        X.append(data[i:i+size])\n",
    "        i += 1\n",
    "        \n",
    "    return X\n",
    "    "
   ]
  },
  {
   "cell_type": "code",
   "execution_count": 12,
   "metadata": {
    "collapsed": true
   },
   "outputs": [],
   "source": [
    "X_train_win = make_windows(X_train_scaled, 24)"
   ]
  },
  {
   "cell_type": "code",
   "execution_count": 13,
   "metadata": {
    "collapsed": true
   },
   "outputs": [],
   "source": [
    "X_train_win = np.array(X_train_win).reshape(len(X_train_win), 24, 1)"
   ]
  },
  {
   "cell_type": "markdown",
   "metadata": {},
   "source": [
    "# Build Model"
   ]
  },
  {
   "cell_type": "code",
   "execution_count": 14,
   "metadata": {},
   "outputs": [
    {
     "name": "stderr",
     "output_type": "stream",
     "text": [
      "C:\\Users\\Adrian\\Anaconda3\\lib\\site-packages\\h5py\\__init__.py:34: FutureWarning: Conversion of the second argument of issubdtype from `float` to `np.floating` is deprecated. In future, it will be treated as `np.float64 == np.dtype(float).type`.\n",
      "  from ._conv import register_converters as _register_converters\n",
      "Using TensorFlow backend.\n"
     ]
    }
   ],
   "source": [
    "import tensorflow as tf\n",
    "from keras.layers import TimeDistributed, RepeatVector, LSTM, Dense, Dropout\n",
    "from keras.models import Sequential"
   ]
  },
  {
   "cell_type": "code",
   "execution_count": 15,
   "metadata": {
    "collapsed": true
   },
   "outputs": [],
   "source": [
    "model = Sequential()\n",
    "model.add(LSTM(30, activation='relu', input_shape=(24,1)))\n",
    "model.add(RepeatVector(24))\n",
    "model.add(LSTM(30, activation='relu', return_sequences=True))\n",
    "model.add(TimeDistributed(Dense(1)))\n",
    "model.compile(optimizer='adam', loss='mse')"
   ]
  },
  {
   "cell_type": "code",
   "execution_count": 16,
   "metadata": {},
   "outputs": [
    {
     "name": "stdout",
     "output_type": "stream",
     "text": [
      "Epoch 1/64\n",
      "112803/112803 [==============================] - 54s 482us/step - loss: 0.0797\n",
      "Epoch 2/64\n",
      "112803/112803 [==============================] - 58s 511us/step - loss: 0.0199\n",
      "Epoch 3/64\n",
      "112803/112803 [==============================] - 58s 518us/step - loss: 0.0154\n",
      "Epoch 4/64\n",
      "112803/112803 [==============================] - 58s 518us/step - loss: 0.0130\n",
      "Epoch 5/64\n",
      "112803/112803 [==============================] - 60s 529us/step - loss: 0.0116\n",
      "Epoch 6/64\n",
      "112803/112803 [==============================] - 60s 536us/step - loss: 0.0103\n",
      "Epoch 7/64\n",
      "112803/112803 [==============================] - 60s 529us/step - loss: 0.0093\n",
      "Epoch 8/64\n",
      "112803/112803 [==============================] - 59s 519us/step - loss: 0.0084\n",
      "Epoch 9/64\n",
      "112803/112803 [==============================] - 59s 527us/step - loss: 0.0078\n",
      "Epoch 10/64\n",
      "112803/112803 [==============================] - 59s 527us/step - loss: 0.0069\n",
      "Epoch 11/64\n",
      "112803/112803 [==============================] - 59s 521us/step - loss: 0.0063\n",
      "Epoch 12/64\n",
      "112803/112803 [==============================] - 60s 535us/step - loss: 0.0059\n",
      "Epoch 13/64\n",
      "112803/112803 [==============================] - 59s 521us/step - loss: 0.0056\n",
      "Epoch 14/64\n",
      "112803/112803 [==============================] - 59s 523us/step - loss: 0.0052\n",
      "Epoch 15/64\n",
      "112803/112803 [==============================] - 60s 531us/step - loss: 0.0050\n",
      "Epoch 16/64\n",
      "112803/112803 [==============================] - 60s 534us/step - loss: 0.0047\n",
      "Epoch 17/64\n",
      "112803/112803 [==============================] - 59s 522us/step - loss: 0.0045\n",
      "Epoch 18/64\n",
      "112803/112803 [==============================] - 55s 484us/step - loss: 0.0041\n",
      "Epoch 19/64\n",
      "112803/112803 [==============================] - 54s 481us/step - loss: 0.0042\n",
      "Epoch 20/64\n",
      "112803/112803 [==============================] - 59s 520us/step - loss: 0.0040\n",
      "Epoch 21/64\n",
      "112803/112803 [==============================] - 55s 487us/step - loss: 0.0038\n",
      "Epoch 22/64\n",
      "112803/112803 [==============================] - 58s 512us/step - loss: 0.0037\n",
      "Epoch 23/64\n",
      "112803/112803 [==============================] - 55s 491us/step - loss: 0.0034\n",
      "Epoch 24/64\n",
      "112803/112803 [==============================] - 54s 481us/step - loss: 0.0033\n",
      "Epoch 25/64\n",
      "112803/112803 [==============================] - 55s 488us/step - loss: 0.0031\n",
      "Epoch 26/64\n",
      "112803/112803 [==============================] - 56s 500us/step - loss: 0.0032\n",
      "Epoch 27/64\n",
      "112803/112803 [==============================] - 56s 495us/step - loss: 0.0031\n",
      "Epoch 28/64\n",
      "112803/112803 [==============================] - 51s 456us/step - loss: 0.0030\n",
      "Epoch 29/64\n",
      "112803/112803 [==============================] - 52s 462us/step - loss: 0.0029\n",
      "Epoch 30/64\n",
      "112803/112803 [==============================] - 54s 482us/step - loss: 0.0028\n",
      "Epoch 31/64\n",
      "112803/112803 [==============================] - 55s 486us/step - loss: 0.0028\n",
      "Epoch 32/64\n",
      "112803/112803 [==============================] - 55s 483us/step - loss: 0.0027\n",
      "Epoch 33/64\n",
      "112803/112803 [==============================] - 55s 484us/step - loss: 0.0028\n",
      "Epoch 34/64\n",
      "112803/112803 [==============================] - 55s 486us/step - loss: 0.0025\n",
      "Epoch 35/64\n",
      "112803/112803 [==============================] - 55s 484us/step - loss: 0.0028\n",
      "Epoch 36/64\n",
      "112803/112803 [==============================] - 54s 481us/step - loss: 0.0026\n",
      "Epoch 37/64\n",
      "112803/112803 [==============================] - 55s 484us/step - loss: 0.0025\n",
      "Epoch 38/64\n",
      "112803/112803 [==============================] - 57s 504us/step - loss: 0.0021\n",
      "Epoch 39/64\n",
      "112803/112803 [==============================] - 55s 484us/step - loss: 0.0025\n",
      "Epoch 40/64\n",
      "112803/112803 [==============================] - 56s 492us/step - loss: 0.0023\n",
      "Epoch 41/64\n",
      "112803/112803 [==============================] - 57s 504us/step - loss: 0.0022\n",
      "Epoch 42/64\n",
      "112803/112803 [==============================] - 54s 482us/step - loss: 0.0023\n",
      "Epoch 43/64\n",
      "112803/112803 [==============================] - 54s 480us/step - loss: 0.0022\n",
      "Epoch 44/64\n",
      "  5120/112803 [>.............................] - ETA: 51s - loss: 0.0026"
     ]
    },
    {
     "ename": "KeyboardInterrupt",
     "evalue": "",
     "output_type": "error",
     "traceback": [
      "\u001b[1;31m---------------------------------------------------------------------------\u001b[0m",
      "\u001b[1;31mKeyboardInterrupt\u001b[0m                         Traceback (most recent call last)",
      "\u001b[1;32m<ipython-input-16-35dc585637f1>\u001b[0m in \u001b[0;36m<module>\u001b[1;34m()\u001b[0m\n\u001b[1;32m----> 1\u001b[1;33m \u001b[0mmodel\u001b[0m\u001b[1;33m.\u001b[0m\u001b[0mfit\u001b[0m\u001b[1;33m(\u001b[0m\u001b[0mX_train_win\u001b[0m\u001b[1;33m,\u001b[0m \u001b[0mX_train_win\u001b[0m\u001b[1;33m,\u001b[0m \u001b[0mepochs\u001b[0m \u001b[1;33m=\u001b[0m \u001b[1;36m64\u001b[0m\u001b[1;33m,\u001b[0m \u001b[0mverbose\u001b[0m \u001b[1;33m=\u001b[0m \u001b[1;36m1\u001b[0m\u001b[1;33m)\u001b[0m\u001b[1;33m\u001b[0m\u001b[0m\n\u001b[0m",
      "\u001b[1;32m~\\Anaconda3\\lib\\site-packages\\keras\\models.py\u001b[0m in \u001b[0;36mfit\u001b[1;34m(self, x, y, batch_size, epochs, verbose, callbacks, validation_split, validation_data, shuffle, class_weight, sample_weight, initial_epoch, steps_per_epoch, validation_steps, **kwargs)\u001b[0m\n\u001b[0;32m    961\u001b[0m                               \u001b[0minitial_epoch\u001b[0m\u001b[1;33m=\u001b[0m\u001b[0minitial_epoch\u001b[0m\u001b[1;33m,\u001b[0m\u001b[1;33m\u001b[0m\u001b[0m\n\u001b[0;32m    962\u001b[0m                               \u001b[0msteps_per_epoch\u001b[0m\u001b[1;33m=\u001b[0m\u001b[0msteps_per_epoch\u001b[0m\u001b[1;33m,\u001b[0m\u001b[1;33m\u001b[0m\u001b[0m\n\u001b[1;32m--> 963\u001b[1;33m                               validation_steps=validation_steps)\n\u001b[0m\u001b[0;32m    964\u001b[0m \u001b[1;33m\u001b[0m\u001b[0m\n\u001b[0;32m    965\u001b[0m     def evaluate(self, x=None, y=None,\n",
      "\u001b[1;32m~\\Anaconda3\\lib\\site-packages\\keras\\engine\\training.py\u001b[0m in \u001b[0;36mfit\u001b[1;34m(self, x, y, batch_size, epochs, verbose, callbacks, validation_split, validation_data, shuffle, class_weight, sample_weight, initial_epoch, steps_per_epoch, validation_steps, **kwargs)\u001b[0m\n\u001b[0;32m   1710\u001b[0m                               \u001b[0minitial_epoch\u001b[0m\u001b[1;33m=\u001b[0m\u001b[0minitial_epoch\u001b[0m\u001b[1;33m,\u001b[0m\u001b[1;33m\u001b[0m\u001b[0m\n\u001b[0;32m   1711\u001b[0m                               \u001b[0msteps_per_epoch\u001b[0m\u001b[1;33m=\u001b[0m\u001b[0msteps_per_epoch\u001b[0m\u001b[1;33m,\u001b[0m\u001b[1;33m\u001b[0m\u001b[0m\n\u001b[1;32m-> 1712\u001b[1;33m                               validation_steps=validation_steps)\n\u001b[0m\u001b[0;32m   1713\u001b[0m \u001b[1;33m\u001b[0m\u001b[0m\n\u001b[0;32m   1714\u001b[0m     def evaluate(self, x=None, y=None,\n",
      "\u001b[1;32m~\\Anaconda3\\lib\\site-packages\\keras\\engine\\training.py\u001b[0m in \u001b[0;36m_fit_loop\u001b[1;34m(self, f, ins, out_labels, batch_size, epochs, verbose, callbacks, val_f, val_ins, shuffle, callback_metrics, initial_epoch, steps_per_epoch, validation_steps)\u001b[0m\n\u001b[0;32m   1239\u001b[0m                         \u001b[0mbatch_logs\u001b[0m\u001b[1;33m[\u001b[0m\u001b[0ml\u001b[0m\u001b[1;33m]\u001b[0m \u001b[1;33m=\u001b[0m \u001b[0mo\u001b[0m\u001b[1;33m\u001b[0m\u001b[0m\n\u001b[0;32m   1240\u001b[0m \u001b[1;33m\u001b[0m\u001b[0m\n\u001b[1;32m-> 1241\u001b[1;33m                     \u001b[0mcallbacks\u001b[0m\u001b[1;33m.\u001b[0m\u001b[0mon_batch_end\u001b[0m\u001b[1;33m(\u001b[0m\u001b[0mbatch_index\u001b[0m\u001b[1;33m,\u001b[0m \u001b[0mbatch_logs\u001b[0m\u001b[1;33m)\u001b[0m\u001b[1;33m\u001b[0m\u001b[0m\n\u001b[0m\u001b[0;32m   1242\u001b[0m                     \u001b[1;32mif\u001b[0m \u001b[0mcallback_model\u001b[0m\u001b[1;33m.\u001b[0m\u001b[0mstop_training\u001b[0m\u001b[1;33m:\u001b[0m\u001b[1;33m\u001b[0m\u001b[0m\n\u001b[0;32m   1243\u001b[0m                         \u001b[1;32mbreak\u001b[0m\u001b[1;33m\u001b[0m\u001b[0m\n",
      "\u001b[1;32m~\\Anaconda3\\lib\\site-packages\\keras\\callbacks.py\u001b[0m in \u001b[0;36mon_batch_end\u001b[1;34m(self, batch, logs)\u001b[0m\n\u001b[0;32m    113\u001b[0m             \u001b[0mcallback\u001b[0m\u001b[1;33m.\u001b[0m\u001b[0mon_batch_end\u001b[0m\u001b[1;33m(\u001b[0m\u001b[0mbatch\u001b[0m\u001b[1;33m,\u001b[0m \u001b[0mlogs\u001b[0m\u001b[1;33m)\u001b[0m\u001b[1;33m\u001b[0m\u001b[0m\n\u001b[0;32m    114\u001b[0m         \u001b[0mself\u001b[0m\u001b[1;33m.\u001b[0m\u001b[0m_delta_ts_batch_end\u001b[0m\u001b[1;33m.\u001b[0m\u001b[0mappend\u001b[0m\u001b[1;33m(\u001b[0m\u001b[0mtime\u001b[0m\u001b[1;33m.\u001b[0m\u001b[0mtime\u001b[0m\u001b[1;33m(\u001b[0m\u001b[1;33m)\u001b[0m \u001b[1;33m-\u001b[0m \u001b[0mt_before_callbacks\u001b[0m\u001b[1;33m)\u001b[0m\u001b[1;33m\u001b[0m\u001b[0m\n\u001b[1;32m--> 115\u001b[1;33m         \u001b[0mdelta_t_median\u001b[0m \u001b[1;33m=\u001b[0m \u001b[0mnp\u001b[0m\u001b[1;33m.\u001b[0m\u001b[0mmedian\u001b[0m\u001b[1;33m(\u001b[0m\u001b[0mself\u001b[0m\u001b[1;33m.\u001b[0m\u001b[0m_delta_ts_batch_end\u001b[0m\u001b[1;33m)\u001b[0m\u001b[1;33m\u001b[0m\u001b[0m\n\u001b[0m\u001b[0;32m    116\u001b[0m         if (self._delta_t_batch > 0. and\n\u001b[0;32m    117\u001b[0m            (delta_t_median > 0.95 * self._delta_t_batch and delta_t_median > 0.1)):\n",
      "\u001b[1;32m~\\Anaconda3\\lib\\site-packages\\numpy\\lib\\function_base.py\u001b[0m in \u001b[0;36mmedian\u001b[1;34m(a, axis, out, overwrite_input, keepdims)\u001b[0m\n\u001b[0;32m   4117\u001b[0m     \"\"\"\n\u001b[0;32m   4118\u001b[0m     r, k = _ureduce(a, func=_median, axis=axis, out=out,\n\u001b[1;32m-> 4119\u001b[1;33m                     overwrite_input=overwrite_input)\n\u001b[0m\u001b[0;32m   4120\u001b[0m     \u001b[1;32mif\u001b[0m \u001b[0mkeepdims\u001b[0m\u001b[1;33m:\u001b[0m\u001b[1;33m\u001b[0m\u001b[0m\n\u001b[0;32m   4121\u001b[0m         \u001b[1;32mreturn\u001b[0m \u001b[0mr\u001b[0m\u001b[1;33m.\u001b[0m\u001b[0mreshape\u001b[0m\u001b[1;33m(\u001b[0m\u001b[0mk\u001b[0m\u001b[1;33m)\u001b[0m\u001b[1;33m\u001b[0m\u001b[0m\n",
      "\u001b[1;32m~\\Anaconda3\\lib\\site-packages\\numpy\\lib\\function_base.py\u001b[0m in \u001b[0;36m_ureduce\u001b[1;34m(a, func, **kwargs)\u001b[0m\n\u001b[0;32m   4031\u001b[0m         \u001b[0mkeepdim\u001b[0m \u001b[1;33m=\u001b[0m \u001b[1;33m(\u001b[0m\u001b[1;36m1\u001b[0m\u001b[1;33m,\u001b[0m\u001b[1;33m)\u001b[0m \u001b[1;33m*\u001b[0m \u001b[0ma\u001b[0m\u001b[1;33m.\u001b[0m\u001b[0mndim\u001b[0m\u001b[1;33m\u001b[0m\u001b[0m\n\u001b[0;32m   4032\u001b[0m \u001b[1;33m\u001b[0m\u001b[0m\n\u001b[1;32m-> 4033\u001b[1;33m     \u001b[0mr\u001b[0m \u001b[1;33m=\u001b[0m \u001b[0mfunc\u001b[0m\u001b[1;33m(\u001b[0m\u001b[0ma\u001b[0m\u001b[1;33m,\u001b[0m \u001b[1;33m**\u001b[0m\u001b[0mkwargs\u001b[0m\u001b[1;33m)\u001b[0m\u001b[1;33m\u001b[0m\u001b[0m\n\u001b[0m\u001b[0;32m   4034\u001b[0m     \u001b[1;32mreturn\u001b[0m \u001b[0mr\u001b[0m\u001b[1;33m,\u001b[0m \u001b[0mkeepdim\u001b[0m\u001b[1;33m\u001b[0m\u001b[0m\n\u001b[0;32m   4035\u001b[0m \u001b[1;33m\u001b[0m\u001b[0m\n",
      "\u001b[1;32m~\\Anaconda3\\lib\\site-packages\\numpy\\lib\\function_base.py\u001b[0m in \u001b[0;36m_median\u001b[1;34m(a, axis, out, overwrite_input)\u001b[0m\n\u001b[0;32m   4150\u001b[0m             \u001b[0mpart\u001b[0m \u001b[1;33m=\u001b[0m \u001b[0ma\u001b[0m\u001b[1;33m\u001b[0m\u001b[0m\n\u001b[0;32m   4151\u001b[0m     \u001b[1;32melse\u001b[0m\u001b[1;33m:\u001b[0m\u001b[1;33m\u001b[0m\u001b[0m\n\u001b[1;32m-> 4152\u001b[1;33m         \u001b[0mpart\u001b[0m \u001b[1;33m=\u001b[0m \u001b[0mpartition\u001b[0m\u001b[1;33m(\u001b[0m\u001b[0ma\u001b[0m\u001b[1;33m,\u001b[0m \u001b[0mkth\u001b[0m\u001b[1;33m,\u001b[0m \u001b[0maxis\u001b[0m\u001b[1;33m=\u001b[0m\u001b[0maxis\u001b[0m\u001b[1;33m)\u001b[0m\u001b[1;33m\u001b[0m\u001b[0m\n\u001b[0m\u001b[0;32m   4153\u001b[0m \u001b[1;33m\u001b[0m\u001b[0m\n\u001b[0;32m   4154\u001b[0m     \u001b[1;32mif\u001b[0m \u001b[0mpart\u001b[0m\u001b[1;33m.\u001b[0m\u001b[0mshape\u001b[0m \u001b[1;33m==\u001b[0m \u001b[1;33m(\u001b[0m\u001b[1;33m)\u001b[0m\u001b[1;33m:\u001b[0m\u001b[1;33m\u001b[0m\u001b[0m\n",
      "\u001b[1;32m~\\Anaconda3\\lib\\site-packages\\numpy\\core\\fromnumeric.py\u001b[0m in \u001b[0;36mpartition\u001b[1;34m(a, kth, axis, kind, order)\u001b[0m\n\u001b[0;32m    662\u001b[0m     \u001b[1;32melse\u001b[0m\u001b[1;33m:\u001b[0m\u001b[1;33m\u001b[0m\u001b[0m\n\u001b[0;32m    663\u001b[0m         \u001b[0ma\u001b[0m \u001b[1;33m=\u001b[0m \u001b[0masanyarray\u001b[0m\u001b[1;33m(\u001b[0m\u001b[0ma\u001b[0m\u001b[1;33m)\u001b[0m\u001b[1;33m.\u001b[0m\u001b[0mcopy\u001b[0m\u001b[1;33m(\u001b[0m\u001b[0morder\u001b[0m\u001b[1;33m=\u001b[0m\u001b[1;34m\"K\"\u001b[0m\u001b[1;33m)\u001b[0m\u001b[1;33m\u001b[0m\u001b[0m\n\u001b[1;32m--> 664\u001b[1;33m     \u001b[0ma\u001b[0m\u001b[1;33m.\u001b[0m\u001b[0mpartition\u001b[0m\u001b[1;33m(\u001b[0m\u001b[0mkth\u001b[0m\u001b[1;33m,\u001b[0m \u001b[0maxis\u001b[0m\u001b[1;33m=\u001b[0m\u001b[0maxis\u001b[0m\u001b[1;33m,\u001b[0m \u001b[0mkind\u001b[0m\u001b[1;33m=\u001b[0m\u001b[0mkind\u001b[0m\u001b[1;33m,\u001b[0m \u001b[0morder\u001b[0m\u001b[1;33m=\u001b[0m\u001b[0morder\u001b[0m\u001b[1;33m)\u001b[0m\u001b[1;33m\u001b[0m\u001b[0m\n\u001b[0m\u001b[0;32m    665\u001b[0m     \u001b[1;32mreturn\u001b[0m \u001b[0ma\u001b[0m\u001b[1;33m\u001b[0m\u001b[0m\n\u001b[0;32m    666\u001b[0m \u001b[1;33m\u001b[0m\u001b[0m\n",
      "\u001b[1;31mKeyboardInterrupt\u001b[0m: "
     ]
    }
   ],
   "source": [
    "model.fit(X_train_win, X_train_win, epochs = 64, verbose = 1)"
   ]
  },
  {
   "cell_type": "code",
   "execution_count": 17,
   "metadata": {
    "collapsed": true
   },
   "outputs": [],
   "source": [
    "model.save_weights(\"C:/Users/Adrian/Desktop/Hackathons/Swamp/ae_weights_24_dos.h5\")"
   ]
  },
  {
   "cell_type": "code",
   "execution_count": null,
   "metadata": {
    "collapsed": true
   },
   "outputs": [],
   "source": [
    "model.load_weights('C:/Users/Adrian/Desktop/Hackathons/Swamp/ae_weights_30_d20.h5')"
   ]
  },
  {
   "cell_type": "code",
   "execution_count": 104,
   "metadata": {
    "collapsed": true
   },
   "outputs": [],
   "source": [
    "porygon_brightness, porygon_frames = stream_data1('https://www.youtube.com/watch?v=Wu-KAY3lJ6A')"
   ]
  },
  {
   "cell_type": "code",
   "execution_count": 56,
   "metadata": {
    "collapsed": true
   },
   "outputs": [],
   "source": [
    "porygon_test = np.array(porygon_brightness).reshape(-1,1)\n",
    "porygon_scale = scaler.transform(porygon_test)\n",
    "porygon_win = make_windows(porygon_scale, 24)\n",
    "porygon_input = np.array(porygon_win).reshape(len(porygon_win), 24, 1)"
   ]
  },
  {
   "cell_type": "code",
   "execution_count": 57,
   "metadata": {
    "collapsed": true
   },
   "outputs": [],
   "source": [
    "porygon_pred = model.predict(porygon_input)"
   ]
  },
  {
   "cell_type": "code",
   "execution_count": 115,
   "metadata": {},
   "outputs": [
    {
     "name": "stdout",
     "output_type": "stream",
     "text": [
      "1.061517071301474\n"
     ]
    }
   ],
   "source": [
    "mae_of_predictions = np.squeeze(np.max(np.square(porygon_pred-porygon_input), axis=1))\n",
    "mae_threshold1 = np.mean(mae_of_predictions) + np.std(mae_of_predictions) \n",
    "print(np.mean(mae_of_predictions))# can use a running mean instead.\n",
    "mae_threshold2 = np.mean(mae_of_predictions) - np.std(mae_of_predictions)\n",
    "actual = np.where(np.logical_or(mae_of_predictions > mae_threshold1, mae_of_predictions < mae_threshold2))[0]"
   ]
  },
  {
   "cell_type": "code",
   "execution_count": 67,
   "metadata": {},
   "outputs": [
    {
     "name": "stdout",
     "output_type": "stream",
     "text": [
      "[ 84  85  86  87  88  89  90  91  92  93  94 104 301 302 303 304 305 306\n",
      " 307 308 309 310 311 312 313 314 315 316 317 318 319 320 321 322 343 344\n",
      " 345 346 347 348 349 350 351 352 353 354 355 356 357 358 359 360 361 362\n",
      " 363 364 542 543 544 545 546 547 548 549 550 551 552 553 554 555 556 557\n",
      " 558 559 560 561]\n"
     ]
    }
   ],
   "source": [
    "print(actual)"
   ]
  },
  {
   "cell_type": "code",
   "execution_count": 40,
   "metadata": {},
   "outputs": [
    {
     "name": "stdout",
     "output_type": "stream",
     "text": [
      "[-0.22921672] [-0.22640298]\n",
      "[-0.25337897] [-0.17067342]\n",
      "[-0.22403641] [-0.10625433]\n",
      "[0.54613722] [-0.05452465]\n",
      "[-0.22498841] [-0.00459923]\n",
      "[-0.25499009] [0.02842946]\n",
      "[-0.22673947] [0.00049862]\n",
      "[0.53746912] [-0.05180921]\n",
      "[-0.22827213] [-0.07695804]\n",
      "[-0.23916762] [-0.08416488]\n",
      "[-0.23509921] [-0.08321805]\n",
      "[0.56499602] [-0.07728633]\n",
      "[-0.2285638] [-0.06782146]\n",
      "[-0.23438363] [-0.05741421]\n",
      "[-0.23053253] [-0.04868452]\n",
      "[-0.22752407] [-0.04154531]\n",
      "[0.55719875] [-0.0373031]\n",
      "[-0.23878229] [-0.03568994]\n",
      "[-0.23473306] [-0.03769948]\n",
      "[-0.22385171] [-0.04674431]\n",
      "[0.54608119] [-0.07069524]\n",
      "[-0.22615904] [-0.11477032]\n",
      "[-0.26411246] [-0.18542643]\n",
      "[-0.22326671] [-0.26040697]\n",
      "0.4125266154113933 3.0983853442389746\n"
     ]
    }
   ],
   "source": [
    "for i in range(24):\n",
    "    print(porygon_input[420][i], porygon_pred[420][i])\n",
    "print(mae_of_predictions[420], mae_threshold)"
   ]
  },
  {
   "cell_type": "code",
   "execution_count": 87,
   "metadata": {
    "collapsed": true
   },
   "outputs": [],
   "source": [
    "import collections\n",
    "from itertools import count\n",
    "import pandas as pd"
   ]
  },
  {
   "cell_type": "code",
   "execution_count": 105,
   "metadata": {
    "collapsed": true
   },
   "outputs": [],
   "source": [
    "def moving_average(data, window_size):\n",
    "    window = np.ones(int(window_size))/float(window_size)\n",
    "    return np.convolve(data, window, 'same')\n",
    "\n",
    "def explain_anomalies(y, window_size, sigma=1.0):\n",
    "    avg = moving_average(y, window_size).tolist()\n",
    "    residual = y - avg\n",
    "    # Calculate the variation in the distribution of the residual\n",
    "    std = np.std(residual)\n",
    "    return {'standard_deviation': round(std, 3),\n",
    "            'anomalies_dict': collections.OrderedDict([(index, y_i) for\n",
    "                                                       index, y_i, avg_i in zip(count(), y, avg)\n",
    "              if (y_i > avg_i + (sigma*std)) | (y_i < avg_i - (sigma*std))])}\n",
    "\n",
    "def explain_anomalies_rolling_std(y, window_size, sigma=1.0):\n",
    "    avg = moving_average(y, window_size)\n",
    "    avg_list = avg.tolist()\n",
    "    residual = y - avg\n",
    "    # Calculate the variation in the distribution of the residual\n",
    "    testing_std = pd.rolling_std(residual, window_size)\n",
    "    testing_std_as_df = pd.DataFrame(testing_std)\n",
    "    rolling_std = testing_std_as_df.replace(np.nan,\n",
    "                                  testing_std_as_df.ix[window_size - 1]).round(3).iloc[:,0].tolist()\n",
    "    std = np.std(residual)\n",
    "    return {'stationary standard_deviation': round(std, 3),\n",
    "            'anomalies_dict': collections.OrderedDict([(index, y_i)\n",
    "                                                       for index, y_i, avg_i, rs_i in zip(count(),\n",
    "                                                                                           y, avg_list, rolling_std)\n",
    "              if (y_i > avg_i + (sigma * rs_i))])}"
   ]
  },
  {
   "cell_type": "code",
   "execution_count": 106,
   "metadata": {},
   "outputs": [
    {
     "name": "stderr",
     "output_type": "stream",
     "text": [
      "C:\\Users\\Adrian\\Anaconda3\\lib\\site-packages\\ipykernel_launcher.py:20: FutureWarning: pd.rolling_std is deprecated for ndarrays and will be removed in a future version\n",
      "C:\\Users\\Adrian\\Anaconda3\\lib\\site-packages\\ipykernel_launcher.py:23: DeprecationWarning: \n",
      ".ix is deprecated. Please use\n",
      ".loc for label based indexing or\n",
      ".iloc for positional indexing\n",
      "\n",
      "See the documentation here:\n",
      "http://pandas.pydata.org/pandas-docs/stable/indexing.html#ix-indexer-is-deprecated\n"
     ]
    }
   ],
   "source": [
    "anomalies = explain_anomalies_rolling_std(mae_of_predictions, 3)"
   ]
  },
  {
   "cell_type": "code",
   "execution_count": 107,
   "metadata": {
    "collapsed": true
   },
   "outputs": [],
   "source": [
    "x_anomaly = np.fromiter(anomalies['anomalies_dict'].keys(), dtype=int, count=len(anomalies['anomalies_dict']))\n",
    "y_anomaly = np.fromiter(anomalies['anomalies_dict'].values(), dtype=float, count=len(anomalies['anomalies_dict']))"
   ]
  },
  {
   "cell_type": "code",
   "execution_count": 109,
   "metadata": {},
   "outputs": [
    {
     "name": "stdout",
     "output_type": "stream",
     "text": [
      "[  0   3   7  10  16  18  19  20  24  29  30  32  36  40  41  42  43  46\n",
      "  47  48  50  53  54  57  58  59  76  80  84  93  94  95  96 104 113 117\n",
      " 118 121 122 125 126 129 130 133 134 136 138 142 146 147 150 151 154 155\n",
      " 161 166 171 177 180 185 188 190 191 192 193 196 197 200 207 208 212 220\n",
      " 227 250 252 258 270 280 289 292 301 312 315 317 318 321 328 333 339 343\n",
      " 345 354 355 362 374 377 383 390 399 402 408 413 417 421 426 427 429 436\n",
      " 439 443 446 448 452 458 460 467 475 480 487 492 495 499 502 513 516 522\n",
      " 526 529 535 536 537 548 552 559 561 567 572]\n"
     ]
    }
   ],
   "source": [
    "print(x_anomaly)"
   ]
  },
  {
   "cell_type": "code",
   "execution_count": 110,
   "metadata": {},
   "outputs": [
    {
     "ename": "KeyboardInterrupt",
     "evalue": "",
     "output_type": "error",
     "traceback": [
      "\u001b[1;31m---------------------------------------------------------------------------\u001b[0m",
      "\u001b[1;31mKeyboardInterrupt\u001b[0m                         Traceback (most recent call last)",
      "\u001b[1;32m<ipython-input-110-34282940e5ba>\u001b[0m in \u001b[0;36m<module>\u001b[1;34m()\u001b[0m\n\u001b[0;32m     13\u001b[0m     \u001b[1;32mif\u001b[0m\u001b[1;33m(\u001b[0m\u001b[0mi\u001b[0m \u001b[1;33m>\u001b[0m \u001b[1;36m420\u001b[0m\u001b[1;33m)\u001b[0m\u001b[1;33m:\u001b[0m\u001b[1;33m\u001b[0m\u001b[0m\n\u001b[0;32m     14\u001b[0m         \u001b[0mcv2\u001b[0m\u001b[1;33m.\u001b[0m\u001b[0mimshow\u001b[0m\u001b[1;33m(\u001b[0m\u001b[1;34m'frame'\u001b[0m\u001b[1;33m,\u001b[0m \u001b[0mframe\u001b[0m\u001b[1;33m)\u001b[0m\u001b[1;33m\u001b[0m\u001b[0m\n\u001b[1;32m---> 15\u001b[1;33m         \u001b[0mcv2\u001b[0m\u001b[1;33m.\u001b[0m\u001b[0mwaitKey\u001b[0m\u001b[1;33m(\u001b[0m\u001b[1;36m0\u001b[0m\u001b[1;33m)\u001b[0m\u001b[1;33m\u001b[0m\u001b[0m\n\u001b[0m\u001b[0;32m     16\u001b[0m \u001b[1;33m\u001b[0m\u001b[0m\n\u001b[0;32m     17\u001b[0m     \u001b[1;32mif\u001b[0m \u001b[0mcv2\u001b[0m\u001b[1;33m.\u001b[0m\u001b[0mwaitKey\u001b[0m\u001b[1;33m(\u001b[0m\u001b[1;36m20\u001b[0m\u001b[1;33m)\u001b[0m \u001b[1;33m&\u001b[0m \u001b[1;36m0xFF\u001b[0m \u001b[1;33m==\u001b[0m \u001b[0mord\u001b[0m\u001b[1;33m(\u001b[0m\u001b[1;34m'q'\u001b[0m\u001b[1;33m)\u001b[0m\u001b[1;33m:\u001b[0m\u001b[1;33m\u001b[0m\u001b[0m\n",
      "\u001b[1;31mKeyboardInterrupt\u001b[0m: "
     ]
    }
   ],
   "source": [
    "url = 'https://www.youtube.com/watch?v=Wu-KAY3lJ6A'\n",
    "vPafy = pafy.new(url)\n",
    "play = vPafy.getbest(preftype=\"webm\")\n",
    "\n",
    "    #start the video\n",
    "cap = cv2.VideoCapture(play.url)\n",
    "    \n",
    "i = 0\n",
    "while (True):\n",
    "    ret,frame = cap.read()\n",
    "    if type(frame) == type(None):\n",
    "        break\n",
    "    if(i > 420):\n",
    "        cv2.imshow('frame', frame)\n",
    "        cv2.waitKey(0)\n",
    "            \n",
    "    if cv2.waitKey(20) & 0xFF == ord('q'):\n",
    "        break    \n",
    "    i+=1\n",
    "\n",
    "cap.release()"
   ]
  },
  {
   "cell_type": "markdown",
   "metadata": {},
   "source": [
    "# Enhancing Video Frames"
   ]
  },
  {
   "cell_type": "code",
   "execution_count": 97,
   "metadata": {
    "collapsed": true
   },
   "outputs": [],
   "source": [
    "from PIL import ImageEnhance"
   ]
  },
  {
   "cell_type": "code",
   "execution_count": 98,
   "metadata": {
    "collapsed": true
   },
   "outputs": [],
   "source": [
    "def merge_windows(windows):\n",
    "    ret = windows[0]\n",
    "    \n",
    "    for i in range(1, len(windows)):\n",
    "        ret = np.append(ret, windows[i][9])\n",
    "    print(ret)\n",
    "    return ret\n",
    "        \n",
    "    \n"
   ]
  },
  {
   "cell_type": "code",
   "execution_count": 99,
   "metadata": {
    "collapsed": true
   },
   "outputs": [],
   "source": [
    "def enhance_video(real_brightness, predicted_brightness, anomaly_frame_chunk_ids, vid_frames, win_size):\n",
    "    #convert chunk ids into their frames\n",
    "    frames_to_edit = []\n",
    "    \n",
    "    for i in range(len(anomaly_frame_chunk_ids)-1):\n",
    "        if(anomaly_frame_chunk_ids[i+1]-anomaly_frame_chunk_ids[i] < win_size):\n",
    "            for j in range(anomaly_frame_chunk_ids[i+1]-anomaly_frame_chunk_ids[i]):\n",
    "                frames_to_edit.append(anomaly_frame_chunk_ids[i]+j)\n",
    "        else:\n",
    "            for j in range(win_size):\n",
    "                frames_to_edit.append(anomaly_frame_chunk_ids[i] + j)\n",
    "    for i in range(win_size):\n",
    "        frames_to_edit.append(anomaly_frame_chunk_ids[len(anomaly_frame_chunk_ids)-1] + i)\n",
    "    \n",
    "    real_brightness = merge_windows(real_brightness)\n",
    "    predicted_brightness = merge_windows(predicted_brightness)\n",
    "    \n",
    "    for frame_num in frames_to_edit:\n",
    "        factor = .4\n",
    "        frame = Image.fromarray(cv2.cvtColor(vid_frames[frame_num], cv2.COLOR_BGR2RGB))\n",
    "        enhancer = ImageEnhance.Brightness(frame)\n",
    "        enhanced_frame = enhancer.enhance(factor)\n",
    "        vid_frames[frame_num] = enhanced_frame\n",
    "        \n",
    "        \n",
    "    return vid_frames"
   ]
  },
  {
   "cell_type": "code",
   "execution_count": 111,
   "metadata": {},
   "outputs": [
    {
     "name": "stdout",
     "output_type": "stream",
     "text": [
      "[ 0.46920981  0.47742069  0.49080899  0.49514151  0.51829399  0.52632538\n",
      "  0.54079553  0.55398222  0.56189088  0.57794468  0.59060756 -1.30751293\n",
      " -1.31370917 -1.32304145 -1.32917991 -1.32793843 -1.32728905 -1.31861323\n",
      " -1.31894359 -1.32014348 -1.30867198 -1.31107405 -1.30982045 -1.30949366\n",
      "  0.59060756 -1.30751293 -1.31370917 -1.32304145 -1.32917991 -1.32793843\n",
      " -1.32728905 -1.31861323 -1.31894359 -1.32014348 -1.30867198 -1.31107405\n",
      " -1.30982045 -1.30949366 -1.31248748 -1.3126035  -1.31194347 -1.33461151\n",
      " -1.33410063 -1.3282919  -1.33309263 -1.33504016 -1.3320605  -1.32159599\n",
      " -1.32713206 -1.3284849  -1.32481014 -1.32404517 -1.32283421 -1.28083927\n",
      " -1.28044877 -1.28047701 -1.28172622 -1.29566564 -1.30208393 -1.30285576\n",
      " -1.29631825 -1.30867832 -1.30898615 -1.30188143 -1.28452609 -1.29801465\n",
      " -1.29534116 -1.29826967 -1.2869775  -1.2971504  -1.2968291  -1.29922203\n",
      " -1.29905096 -1.29364676 -1.29245451 -1.39496315 -1.39970099 -1.40103115\n",
      " -1.40167738 -1.38158272 -1.38419125 -1.38374549 -1.37624305 -1.3756383\n",
      " -1.37822128 -1.37051648 -1.36058191 -1.37823197 -1.37151311 -1.3705695\n",
      " -1.36280205 -1.37585776 -1.35919349 -1.36737827 -1.36299362 -1.37326747\n",
      " -1.35827237 -1.36102299 -1.35912917 -1.84221606 -1.85660971 -1.85218736\n",
      " -1.83857928 -1.80438068 -1.82819019 -1.81822019 -1.80711152 -1.80595501\n",
      " -1.80307249 -1.78282421 -1.72093497 -1.67591753 -1.67592171 -1.10727791\n",
      " -0.84359129 -0.62336357 -0.62346312 -0.89050099 -0.89058944  1.52623506\n",
      "  1.52380527 -1.79462649 -0.82822049  0.10344389  0.13837861  0.13723612\n",
      "  0.13643018  0.13153302  0.13203102  0.14128757  0.13986087  0.13733557\n",
      "  0.1379912   0.14354997  0.14309925  0.13907585  0.13926724  0.14370706\n",
      "  0.14381299  0.13838799  0.13861588  0.14609419  0.14704931  0.14651944\n",
      "  0.14625783  0.15122698  0.15218547  0.15136836  0.15014402  0.15480609\n",
      "  0.15553841  0.1525961   0.15000375  0.1423592   0.14687497  0.14429626\n",
      "  0.14181725  0.14194164  0.14744944  0.14450138  0.14211824  0.14221213\n",
      "  0.14742005  0.14679021  0.14261548  0.14288455  0.15046643  0.15073053\n",
      "  0.14824042  0.1446403   0.1523263   0.15281981  0.15137668  0.14852354\n",
      "  0.15300832  0.15326634  0.15038093  0.14746665  0.14780229  0.14882421\n",
      "  0.14754849  0.14327242  0.14329771  0.1505356   0.15116178  0.14817093\n",
      "  0.14849123  0.15484693  0.15571159  0.14894715  0.14949038  0.15727295\n",
      "  0.15854436  0.15669079  0.15612013  0.16143426 -0.19714849 -0.20244469\n",
      " -0.20306553 -0.19552061 -0.19548775 -0.19554392 -0.19084367 -0.18084352\n",
      " -0.17152743 -0.17250494 -0.17298632 -0.17092239 -0.16812626 -0.16867476\n",
      " -0.16778518 -0.16524242 -0.16363059 -0.16311067 -0.16695792 -0.16659861\n",
      " -0.16560761 -0.16413242 -0.17054034 -0.17999124 -0.18229585 -0.1834195\n",
      " -0.1835212  -0.17752766 -0.17439959 -0.16993118 -0.17007276 -0.16857695\n",
      " -0.16856181 -0.16656608 -0.1652719  -0.16470178 -0.16496349 -0.16388829\n",
      " -0.1645757  -0.16447742 -0.16715307  2.47239727  2.46036809  2.23606222\n",
      "  2.23669662  2.43252823  2.43839322  2.33902613  2.26061801  2.43009981\n",
      "  2.43270164  2.34717676  2.26579228  2.43634047  2.43811081  2.35091195\n",
      "  2.27314163  2.27149395  2.42285465  2.34225267  2.27535418  2.27644031\n",
      "  2.39206171  2.30754609  2.26180175  2.26340827  2.36705714  2.36707452\n",
      "  2.29115419  2.2906017   2.35350542  2.35288467  2.33241061  2.30776869\n",
      "  2.35115994  2.34723296  2.33502071  2.31942723  2.34250035  2.31594201\n",
      "  1.25884989  0.25138525  0.25303162  0.31531619  0.31579337  0.31992411\n",
      "  0.33254731  0.36439139  0.38260799  0.38153016  0.39402905  0.42085801\n",
      "  0.44028043  0.42901999  0.43724097  0.44431234  0.40674739  0.40510994\n",
      "  0.41291113  0.41802727  0.42009276  0.41358047  0.47081147  0.53263653\n",
      "  0.5246462   0.52175882  0.40418032  0.34432517  0.23936    -0.11626686\n",
      " -0.33864702 -0.44891209 -0.69561109 -0.8568792  -1.04922844 -1.106736\n",
      " -1.19304923 -1.25345514 -1.21148253 -1.16733202 -1.04832909 -1.05077542\n",
      " -1.0438342  -1.03897834 -1.03956123 -1.04212916 -1.04282467 -1.04348849\n",
      " -1.04375924 -1.0527714  -1.05339862 -1.0416838  -1.02614052 -1.02709327\n",
      " -1.02239531 -1.01962686 -1.02013609 -1.02112899 -1.01828319  0.74575574\n",
      "  2.49279258 -1.76540721  2.50623824  1.53598028  0.63808039  0.48627003\n",
      "  0.48468575  0.51115928  0.53157765  0.62140806  0.62085321  0.55773235\n",
      "  0.48622882  0.4841215   0.53627935  0.5794421   0.61406503  0.61389799\n",
      "  0.48713738  0.51408429  0.53284344  0.53165538  0.62251951  0.6229428\n",
      " -0.26253288 -0.97123115 -0.98464444 -0.95062504 -0.93958717 -0.92470035\n",
      " -0.69305288 -0.67125404 -0.48501428 -0.32979457  1.10059259  1.09003162\n",
      "  1.1954521   1.27192523  1.2768701   1.16412909  2.37989569  1.585718\n",
      "  0.57635058  3.41084008 -0.74402532 -0.75375461  0.56271839  1.5862762\n",
      "  0.56604395  0.24449065  0.55209948  1.53602552  0.53620072  0.23977293\n",
      "  0.51429335  1.52848358  0.49045029  0.23740342  0.24274864  1.50074808\n",
      "  0.4225993   0.19686635  0.20170237  0.38487132  0.3391601   0.18022514\n",
      "  0.18342122  0.29854473  1.29072235  0.11778812  0.11270099  0.20491454\n",
      "  1.13590767  0.15469562  0.04152299  0.10858265  1.00494177  0.06020125\n",
      " -0.03146265  0.01389065  0.86887985 -0.0353431  -0.08761209 -0.09824954\n",
      "  0.76334282 -0.12502519 -0.16124007 -0.16940623 -0.1625495  -0.1977374\n",
      " -0.2308098  -0.2363536  -0.2170316   0.55666749 -0.24461239 -0.24308414\n",
      " -0.2265305   0.53929676 -0.22921672 -0.25337897 -0.22403641  0.54613722\n",
      " -0.22498841 -0.25499009 -0.22673947  0.53746912 -0.22827213 -0.23916762\n",
      " -0.23509921  0.56499602 -0.2285638  -0.23438363 -0.23053253 -0.22752407\n",
      "  0.55719875 -0.23878229 -0.23473306 -0.22385171  0.54608119 -0.22615904\n",
      " -0.26411246 -0.22326671  0.53446748 -0.22744295 -0.26571718 -0.2341391\n",
      "  1.99407849  0.57894473  0.46083454  0.46253887  1.81845772  0.58160345\n",
      "  0.38439971  0.3859367   0.57961937  0.58056383  0.39338048  0.3950318\n",
      "  0.57968305  1.84128952  0.45290204  0.58425424  0.60414588  0.60391113\n",
      "  0.60377544  0.74947705  0.6563886   1.4281225   0.36206167  0.26116884\n",
      "  0.3643169   0.35804612  0.35527975  0.40419006  0.66775526  0.67874417\n",
      "  0.70255177  0.70042489  0.70151916  0.71453976  0.7196513   0.7180492\n",
      "  0.71955284  0.72682755  0.71104833  0.72114427  0.72502664  0.73617043\n",
      "  0.72203166  0.74412334  0.74070799  0.75074081  0.73558181  0.75817603\n",
      "  0.75747973  0.7719447   0.7592028   0.77900764  0.77502899  0.77737967\n",
      "  0.75783136 -1.16897407 -1.17214375 -1.17422289 -1.17189364 -1.17515869\n",
      " -1.17541365 -1.1834949  -1.18591155 -1.18580918 -1.15835842 -1.1289154\n",
      " -1.12912263 -1.12936866 -1.14525127 -1.14571539 -1.14621676 -1.179026\n",
      " -1.17946433 -1.1795913  -1.16155438 -1.20533251 -1.00587018 -1.0982719\n",
      " -1.13055063 -1.19095779 -1.01538232 -1.09327697 -1.16297781 -1.14223861\n",
      " -0.99285659 -1.08633178 -1.12342385 -1.06506915 -1.189546   -1.10345734\n",
      " -0.867225   -0.56928565 -0.56833644 -0.56635248 -0.73189026 -0.42470671\n",
      " -0.85313831 -0.12872978 -0.46810287  0.25496315 -0.56320215  0.54462898\n",
      " -0.03619416  0.06272277  2.35828524  2.39813499  2.38787304  2.51030643\n",
      "  2.58949412  2.58284341  2.7626772   2.87891272  2.88089489  2.88236948\n",
      "  0.46280626  0.4671604   2.92091562  1.26642068  1.2727992   1.48967869\n",
      "  0.3056504   0.3066674   0.31097183 -0.48912781 -1.32917345 -1.31630167\n",
      "  0.20957804 -0.57520364 -1.41439991 -0.12815672 -1.59242745 -1.59828711\n",
      " -1.55452192 -1.50338415 -1.50301583]\n",
      "[ 4.84299511e-01  5.12054265e-01  5.02717435e-01  5.08165777e-01\n",
      "  5.04456699e-01  5.01088917e-01  5.05485475e-01  5.09740949e-01\n",
      "  5.38064003e-01  4.87045169e-01  4.72082287e-01 -1.47205198e+00\n",
      " -1.37672448e+00 -1.37613714e+00 -1.34586549e+00 -1.34961224e+00\n",
      " -1.33317733e+00 -1.33221793e+00 -1.32637775e+00 -1.31895590e+00\n",
      " -1.30838382e+00 -1.29712713e+00 -1.28751516e+00 -1.28095818e+00\n",
      "  4.41579074e-01 -1.43550670e+00 -1.38447154e+00 -1.37764621e+00\n",
      " -1.35499585e+00 -1.35827851e+00 -1.34936225e+00 -1.32611489e+00\n",
      " -1.32316327e+00 -1.33039045e+00 -1.30885220e+00 -1.30697763e+00\n",
      " -1.30645120e+00 -1.30740952e+00 -1.30935431e+00 -1.31331730e+00\n",
      " -1.31639123e+00 -1.31816256e+00 -1.32064056e+00 -1.32241488e+00\n",
      " -1.32390487e+00 -1.32535279e+00 -1.32587016e+00 -1.32541800e+00\n",
      " -1.32146585e+00 -1.31640375e+00 -1.30997920e+00 -1.30282080e+00\n",
      " -1.29575181e+00 -1.29106104e+00 -1.28976846e+00 -1.29034209e+00\n",
      " -1.29059076e+00 -1.28896987e+00 -1.28729391e+00 -1.28723228e+00\n",
      " -1.28802884e+00 -1.28704655e+00 -1.28925407e+00 -1.29140663e+00\n",
      " -1.29144084e+00 -1.28962803e+00 -1.28822887e+00 -1.28638351e+00\n",
      " -1.28626025e+00 -1.28751814e+00 -1.28905368e+00 -1.29455984e+00\n",
      " -1.30609906e+00 -1.31918657e+00 -1.33405209e+00 -1.35090065e+00\n",
      " -1.36514080e+00 -1.37430692e+00 -1.38042510e+00 -1.38428044e+00\n",
      " -1.38479054e+00 -1.38449574e+00 -1.38042247e+00 -1.37380600e+00\n",
      " -1.36791646e+00 -1.36505139e+00 -1.36159372e+00 -1.36755824e+00\n",
      " -1.36687839e+00 -1.36911249e+00 -1.36533439e+00 -1.35348368e+00\n",
      " -1.34185719e+00 -1.32766771e+00 -1.34184611e+00 -1.37408602e+00\n",
      " -1.37526941e+00 -1.38959861e+00 -1.50438011e+00 -1.74768901e+00\n",
      " -1.78559005e+00 -1.82015145e+00 -1.86105287e+00 -1.85696435e+00\n",
      " -1.84342015e+00 -1.82677901e+00 -1.89364684e+00 -1.83999360e+00\n",
      " -1.77707553e+00 -1.75488639e+00 -1.70987856e+00 -1.65205193e+00\n",
      " -1.57082093e+00 -1.45678318e+00 -1.35740650e+00 -1.25411463e+00\n",
      " -9.26423728e-01  6.47894517e-02  3.62950116e-01  1.73391834e-01\n",
      " -3.51096913e-02 -3.15907836e-01 -5.16650617e-01 -5.33214927e-01\n",
      " -3.46264303e-01 -1.59981474e-01 -9.33072343e-02 -2.50681248e-02\n",
      "  2.09980741e-01  1.37356445e-01  1.77988857e-01  1.37874618e-01\n",
      "  1.42306566e-01  1.41967848e-01  1.42472640e-01  1.42795458e-01\n",
      "  1.43676594e-01  1.44567534e-01  1.44564614e-01  1.44851223e-01\n",
      "  1.46050617e-01  1.47427738e-01  1.48141295e-01  1.48619086e-01\n",
      "  1.49615735e-01  1.50390893e-01  1.50336847e-01  1.50055900e-01\n",
      "  1.50397629e-01  1.51004910e-01  1.50674984e-01  1.50116786e-01\n",
      "  1.49457857e-01  1.48732930e-01  1.47609845e-01  1.46444142e-01\n",
      "  1.46089286e-01  1.46236718e-01  1.46537811e-01  1.46459952e-01\n",
      "  1.46617010e-01  1.46498114e-01  1.47120461e-01  1.47102907e-01\n",
      "  1.47404373e-01  1.48245275e-01  1.49387971e-01  1.49466082e-01\n",
      "  1.49702147e-01  1.50380552e-01  1.50930718e-01  1.50621623e-01\n",
      "  1.50267482e-01  1.50579721e-01  1.51047722e-01  1.50587216e-01\n",
      "  1.50313035e-01  1.50208279e-01  1.50619581e-01  1.49785310e-01\n",
      "  1.49295494e-01  1.49116099e-01  1.52262658e-01  1.57520041e-01\n",
      "  1.63632333e-01  1.68924510e-01  1.71022773e-01  1.68657601e-01\n",
      "  1.59934923e-01  1.59605250e-01  1.64838418e-01  1.53950915e-01\n",
      "  1.44372731e-01  1.58514842e-01  1.66569844e-01  1.34110764e-01\n",
      " -1.62571102e-01 -2.06914023e-01 -1.90009743e-01 -1.86635420e-01\n",
      " -1.91583008e-01 -1.99490219e-01 -2.07088277e-01 -1.97563738e-01\n",
      " -1.80164799e-01 -1.70056149e-01 -1.66947827e-01 -1.64588898e-01\n",
      " -1.63119018e-01 -1.61604300e-01 -1.60978511e-01 -1.61196604e-01\n",
      " -1.62707657e-01 -1.64344117e-01 -1.65216312e-01 -1.65441766e-01\n",
      " -1.65853530e-01 -1.66565299e-01 -1.67817339e-01 -1.69733822e-01\n",
      " -1.71502560e-01 -1.72919020e-01 -1.72723025e-01 -6.55204728e-02\n",
      " -1.97269902e-01 -1.40796229e-01 -1.81435212e-01 -2.18603835e-01\n",
      " -2.23080441e-01 -2.11113200e-01 -1.99489519e-01 -2.14184552e-01\n",
      " -2.45931298e-01 -2.61506706e-01 -2.61707336e-01 -2.73248285e-01\n",
      " -1.70908734e-01  2.29551148e+00  2.53975129e+00  2.41327906e+00\n",
      "  2.34075999e+00  2.30843496e+00  2.31607580e+00  2.30220437e+00\n",
      "  2.22593927e+00  2.22363377e+00  2.37381935e+00  2.37230206e+00\n",
      "  2.35951376e+00  2.35617280e+00  2.35641408e+00  2.34656620e+00\n",
      "  2.33517241e+00  2.32525373e+00  2.32329655e+00  2.31644106e+00\n",
      "  2.30847764e+00  2.30439329e+00  2.30926037e+00  2.31328702e+00\n",
      "  2.31294870e+00  2.31426477e+00  2.33017635e+00  2.32439065e+00\n",
      "  2.30931115e+00  2.31001115e+00  2.32605338e+00  2.34936333e+00\n",
      "  2.37890482e+00  2.40057158e+00  2.36850715e+00  2.32331133e+00\n",
      "  2.30029583e+00  2.27605748e+00  2.19405580e+00  2.26720643e+00\n",
      "  3.67528677e-01  3.26692164e-01  3.26717734e-01  2.76744783e-01\n",
      "  2.60130048e-01  2.72803009e-01  3.01440477e-01  3.62906873e-01\n",
      "  3.97783369e-01  4.25629765e-01  3.95066470e-01  4.03860867e-01\n",
      "  4.09853458e-01  4.18960810e-01  4.24366981e-01  4.20530736e-01\n",
      "  4.25247431e-01  4.26493645e-01  4.23145622e-01  4.21389729e-01\n",
      "  4.26255822e-01  4.38894421e-01  4.54805821e-01  4.60527480e-01\n",
      "  4.40514475e-01  4.11819965e-01  3.71915340e-01  2.98047900e-01\n",
      "  1.64456055e-01 -8.50640759e-02 -3.79360616e-01 -6.20606720e-01\n",
      " -7.93658078e-01 -8.99597347e-01 -9.78999555e-01 -1.03701746e+00\n",
      " -1.08130383e+00 -1.11273527e+00 -1.14103508e+00 -1.14195049e+00\n",
      " -1.13318443e+00 -1.10660696e+00 -1.05710959e+00 -1.03491259e+00\n",
      " -1.04174066e+00 -1.07002139e+00 -1.11234415e+00 -9.36683893e-01\n",
      " -1.07394683e+00 -1.06688356e+00 -1.07651830e+00 -1.03964067e+00\n",
      " -1.03304100e+00 -1.04467654e+00 -1.07576966e+00 -1.11647773e+00\n",
      " -1.09678197e+00 -1.18407536e+00 -1.29665768e+00  7.86771953e-01\n",
      "  1.54965305e+00  9.77808833e-01  7.91559696e-01  7.20080197e-01\n",
      "  6.72460496e-01  6.54760599e-01  6.15253270e-01  5.83358824e-01\n",
      "  6.42070830e-01  6.12310767e-01  3.46292198e-01  4.13406968e-01\n",
      "  5.08893967e-01  5.52306294e-01  5.53252816e-01  5.57493389e-01\n",
      "  5.59670627e-01  5.67664146e-01  5.43574512e-01  5.05577207e-01\n",
      "  4.51420367e-01  4.96492922e-01  4.88872528e-01  3.88311565e-01\n",
      " -7.04755068e-01 -1.06875181e+00 -9.91052091e-01 -1.11537194e+00\n",
      " -1.10009217e+00 -7.83206582e-01 -1.02005112e+00 -8.07512045e-01\n",
      " -5.45517445e-01 -1.92152590e-01  2.83091545e-01  5.55184960e-01\n",
      "  1.07087588e+00  1.43715310e+00  1.63830626e+00  1.82399726e+00\n",
      "  1.85285556e+00  1.86167347e+00  1.56431019e+00  1.24760127e+00\n",
      " -9.94528592e-01  6.48192942e-01  6.02696121e-01  7.58185327e-01\n",
      "  7.20333517e-01  7.90706277e-01  7.30174720e-01  8.07658374e-01\n",
      "  9.33415174e-01  6.51419282e-01  6.55274630e-01  7.07068563e-01\n",
      "  6.60757959e-01  5.81397533e-01  5.86189270e-01  5.28711736e-01\n",
      "  5.26875377e-01  3.71700704e-01  4.47747886e-01  4.33398336e-01\n",
      "  3.56060565e-01  3.37183982e-01  3.54903877e-01  3.89762133e-01\n",
      "  4.93065774e-01  5.31807184e-01  5.20712852e-01  4.03043330e-01\n",
      "  3.73093307e-01  3.46343309e-01  3.28844458e-01  3.11713248e-01\n",
      "  2.96709627e-01  3.70638192e-01  2.82967746e-01  2.77597427e-01\n",
      "  2.35678151e-01  1.85217202e-01  1.01629384e-01  3.99419144e-02\n",
      "  4.24952880e-02  1.32136140e-02 -1.31782755e-01 -1.06476419e-01\n",
      " -6.99238256e-02 -1.16822071e-01 -1.59625664e-01 -1.90152034e-01\n",
      " -1.29179135e-01  5.62160648e-03  5.54327294e-02  6.47962019e-02\n",
      " -1.40600894e-02 -3.52162048e-02 -6.79286718e-02 -6.96475431e-02\n",
      " -9.56344754e-02 -2.54813898e-02  1.52847040e-02 -6.28484339e-02\n",
      " -7.27449432e-02 -1.72266755e-02  1.15516353e-02 -8.41648802e-02\n",
      " -1.03034958e-01 -4.46443781e-02 -1.84192695e-03 -9.30859819e-02\n",
      " -1.20322220e-01 -1.54225063e-02 -5.74023575e-02 -9.96178314e-02\n",
      " -1.95347890e-01 -7.19266459e-02 -9.13416296e-02 -8.15623328e-02\n",
      " -1.14235200e-01 -1.09031670e-01 -7.54771307e-02 -1.13572352e-01\n",
      " -1.28985479e-01  5.32254353e-02  8.74837816e-01  8.59730780e-01\n",
      "  8.43188286e-01  7.66477883e-01  7.04263210e-01  6.93485856e-01\n",
      "  6.34090006e-01  6.61637604e-01  6.72816992e-01  6.77682340e-01\n",
      "  6.18708193e-01  6.48204505e-01  7.15032756e-01  8.01885486e-01\n",
      "  8.94266844e-01  8.31877053e-01  7.94362187e-01  7.40732431e-01\n",
      "  7.01665163e-01  6.72363997e-01  6.43371940e-01  6.02592885e-01\n",
      "  6.83364630e-01  2.51943439e-01  2.78548151e-01  3.34845692e-01\n",
      "  4.05596852e-01  4.58819777e-01  5.14277399e-01  6.11934364e-01\n",
      "  6.86875165e-01  6.96691036e-01  7.13576674e-01  7.18426347e-01\n",
      "  7.14392066e-01  7.16823399e-01  7.35624373e-01  7.15470731e-01\n",
      "  7.18590379e-01  7.20303059e-01  7.23010063e-01  7.47803211e-01\n",
      "  7.45373487e-01  7.53840148e-01  7.38337457e-01  7.28613257e-01\n",
      "  7.47573733e-01  7.63460755e-01  7.66364515e-01  7.42897332e-01\n",
      "  7.20182836e-01  7.40731120e-01  7.57907689e-01  6.96516514e-01\n",
      "  6.38482034e-01 -1.29066598e+00 -1.23211455e+00 -1.22513926e+00\n",
      " -1.21067595e+00 -1.21154976e+00 -1.19625556e+00 -1.16996932e+00\n",
      " -1.15841532e+00 -1.17349529e+00 -1.15256238e+00 -1.14716578e+00\n",
      " -1.15635669e+00 -1.15870750e+00 -1.15109408e+00 -1.15002871e+00\n",
      " -1.15863287e+00 -1.16100860e+00 -1.15639830e+00 -1.15899789e+00\n",
      " -1.15232003e+00 -1.13828611e+00 -1.13142300e+00 -1.14015555e+00\n",
      " -1.13380933e+00 -1.12544286e+00 -1.10560071e+00 -1.12016702e+00\n",
      " -1.10979545e+00 -1.12223482e+00 -1.12257159e+00 -1.12517107e+00\n",
      " -1.11522031e+00 -1.08143508e+00 -1.07550550e+00 -9.79262352e-01\n",
      " -9.19139624e-01 -9.19068575e-01 -7.99136579e-01 -7.82455981e-01\n",
      " -7.75192976e-01 -7.55847692e-01 -7.04067528e-01 -6.09683514e-01\n",
      " -4.45193917e-01 -3.17266822e-01 -1.42131656e-01  1.17678650e-01\n",
      "  5.16882956e-01  1.01481950e+00  1.39255118e+00  2.25119066e+00\n",
      "  2.69443774e+00  2.86613894e+00  2.82464743e+00  2.77390766e+00\n",
      "  2.68851423e+00  2.61681867e+00  2.65347028e+00  2.15908980e+00\n",
      "  1.95664012e+00  1.25335217e+00  8.43350530e-01  7.69451797e-01\n",
      "  6.52899981e-01  5.28661728e-01  3.85962784e-01  1.78580955e-01\n",
      " -3.84395272e-02 -4.48549092e-01 -4.61112291e-01 -9.16073680e-01\n",
      " -1.12632537e+00 -1.18362701e+00 -1.25806618e+00 -1.26361585e+00\n",
      " -1.27564192e+00 -1.29643095e+00 -1.48275411e+00 -1.46412933e+00\n",
      " -1.47418928e+00]\n"
     ]
    }
   ],
   "source": [
    "work = enhance_video(porygon_input, porygon_pred, x_anomaly, np.array(porygon_frames), 10)\n",
    "\n",
    "#print(np.array(porygon_frames))"
   ]
  },
  {
   "cell_type": "code",
   "execution_count": 112,
   "metadata": {
    "collapsed": true
   },
   "outputs": [],
   "source": [
    "for frame in work:\n",
    "    cv2.imshow('frame', frame)\n",
    "    cv2.waitKey(0)\n",
    "            \n",
    "    if cv2.waitKey(20) & 0xFF == ord('q'):\n",
    "        break\n",
    "cv2.destroyAllWindows()"
   ]
  },
  {
   "cell_type": "code",
   "execution_count": null,
   "metadata": {
    "collapsed": true
   },
   "outputs": [],
   "source": [
    "print(porygon_frames)"
   ]
  },
  {
   "cell_type": "code",
   "execution_count": null,
   "metadata": {
    "collapsed": true
   },
   "outputs": [],
   "source": [
    "print(work)"
   ]
  },
  {
   "cell_type": "code",
   "execution_count": null,
   "metadata": {
    "collapsed": true
   },
   "outputs": [],
   "source": [
    "from cv2 import VideoWriter, VideoWriter_fourcc, imread, resize"
   ]
  },
  {
   "cell_type": "code",
   "execution_count": null,
   "metadata": {
    "collapsed": true
   },
   "outputs": [],
   "source": [
    "def make_video(frames, outimg=None, fps=24, size=None,\n",
    "               is_color=True, format=\"MP4V\"):\n",
    "\n",
    "    fourcc = VideoWriter_fourcc(*format)\n",
    "    vid = None\n",
    "    for frame in frames:\n",
    "        if vid is None:\n",
    "            if size is None:\n",
    "                size = frame.shape[1], frame.shape[0]\n",
    "            vid = VideoWriter('safe.mp4', fourcc, float(fps), size, is_color)\n",
    "        if size[0] != frame.shape[1] and size[1] != frame.shape[0]:\n",
    "            frame = resize(frame, size)\n",
    "        vid.write(frame)\n",
    "    vid.release()\n",
    "    return vid"
   ]
  },
  {
   "cell_type": "code",
   "execution_count": null,
   "metadata": {
    "collapsed": true
   },
   "outputs": [],
   "source": [
    "make_video(porygon_frames)"
   ]
  },
  {
   "cell_type": "code",
   "execution_count": 13,
   "metadata": {
    "collapsed": true
   },
   "outputs": [],
   "source": []
  },
  {
   "cell_type": "code",
   "execution_count": 14,
   "metadata": {
    "collapsed": true
   },
   "outputs": [],
   "source": []
  },
  {
   "cell_type": "code",
   "execution_count": 11,
   "metadata": {},
   "outputs": [
    {
     "name": "stdout",
     "output_type": "stream",
     "text": [
      "ping\n"
     ]
    }
   ],
   "source": []
  },
  {
   "cell_type": "code",
   "execution_count": 12,
   "metadata": {
    "scrolled": true
   },
   "outputs": [
    {
     "name": "stdout",
     "output_type": "stream",
     "text": [
      "fuck me\n",
      "{\"destination\": null}\n"
     ]
    }
   ],
   "source": []
  },
  {
   "cell_type": "code",
   "execution_count": 15,
   "metadata": {
    "collapsed": true
   },
   "outputs": [],
   "source": [
    "import requests, os, json"
   ]
  },
  {
   "cell_type": "code",
   "execution_count": 16,
   "metadata": {
    "collapsed": true
   },
   "outputs": [],
   "source": [
    "REQUEST = json.dumps({\n",
    "    'body': {}\n",
    "})"
   ]
  },
  {
   "cell_type": "code",
   "execution_count": 17,
   "metadata": {},
   "outputs": [
    {
     "name": "stdout",
     "output_type": "stream",
     "text": [
      "{\"sucess\": \"nop\"}\n"
     ]
    }
   ],
   "source": [
    "# GET /test\n",
    "request= json.loads(REQUEST)\n",
    "res = {'sucess': 'nop'}\n",
    "print(json.dumps(res))"
   ]
  },
  {
   "cell_type": "code",
   "execution_count": 18,
   "metadata": {},
   "outputs": [
    {
     "name": "stdout",
     "output_type": "stream",
     "text": [
      "fuck me\n",
      "{\"destination\": null}\n"
     ]
    }
   ],
   "source": [
    "# POST /test\n",
    "req = json.loads(REQUEST)\n",
    "url = req['body'].get('url')\n",
    "print(\"fuck me\")\n",
    "res = {'destination': url}\n",
    "print(json.dumps(res))"
   ]
  },
  {
   "cell_type": "code",
   "execution_count": null,
   "metadata": {
    "collapsed": true
   },
   "outputs": [],
   "source": []
  }
 ],
 "metadata": {
  "kernelspec": {
   "display_name": "Python 3",
   "language": "python",
   "name": "python3"
  },
  "language_info": {
   "codemirror_mode": {
    "name": "ipython",
    "version": 3
   },
   "file_extension": ".py",
   "mimetype": "text/x-python",
   "name": "python",
   "nbconvert_exporter": "python",
   "pygments_lexer": "ipython3",
   "version": "3.6.3"
  },
  "varInspector": {
   "cols": {
    "lenName": 16,
    "lenType": 16,
    "lenVar": 40
   },
   "kernels_config": {
    "python": {
     "delete_cmd_postfix": "",
     "delete_cmd_prefix": "del ",
     "library": "var_list.py",
     "varRefreshCmd": "print(var_dic_list())"
    },
    "r": {
     "delete_cmd_postfix": ") ",
     "delete_cmd_prefix": "rm(",
     "library": "var_list.r",
     "varRefreshCmd": "cat(var_dic_list()) "
    }
   },
   "types_to_exclude": [
    "module",
    "function",
    "builtin_function_or_method",
    "instance",
    "_Feature"
   ],
   "window_display": false
  }
 },
 "nbformat": 4,
 "nbformat_minor": 2
}
