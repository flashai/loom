{
 "cells": [
  {
   "cell_type": "markdown",
   "metadata": {},
   "source": [
    "# Calculate Brightness"
   ]
  },
  {
   "cell_type": "code",
   "execution_count": 1,
   "metadata": {
    "collapsed": true
   },
   "outputs": [],
   "source": [
    "import math\n",
    "from PIL import ImageStat, Image"
   ]
  },
  {
   "cell_type": "code",
   "execution_count": 2,
   "metadata": {
    "collapsed": true
   },
   "outputs": [],
   "source": [
    "def brightness(frame):\n",
    "    frame = Image.fromarray(cv2.cvtColor(frame, cv2.COLOR_BGR2RGB))\n",
    "    stat = ImageStat.Stat(frame)\n",
    "    r,g,b = stat.mean\n",
    "    return math.sqrt(0.241*(r**2) + 0.691*(g**2) + 0.068*(b**2))"
   ]
  },
  {
   "cell_type": "markdown",
   "metadata": {},
   "source": [
    "# Stream Data from Youtube"
   ]
  },
  {
   "cell_type": "code",
   "execution_count": 3,
   "metadata": {
    "collapsed": true
   },
   "outputs": [],
   "source": [
    "import pafy\n",
    "import youtube_dl\n",
    "import cv2\n",
    "import numpy as np"
   ]
  },
  {
   "cell_type": "code",
   "execution_count": 12,
   "metadata": {
    "collapsed": true
   },
   "outputs": [],
   "source": [
    "url = 'https://www.youtube.com/watch?v=J8E1g-cHV5M'\n",
    "vPafy = pafy.new(url)\n",
    "play = vPafy.getbest(preftype=\"webm\")\n",
    "\n",
    "#start the video\n",
    "cap = cv2.VideoCapture(play.url)\n",
    "brightness_vals = [] #avg brightness for each frame\n",
    "\n",
    "while (True):\n",
    "    ret,frame = cap.read()\n",
    "    if type(frame) == type(None):\n",
    "        break\n",
    "    brightness_vals.append(brightness(frame))\n",
    "    #cv2.imshow('frame',frame)\n",
    "    #if cv2.waitKey(20) & 0xFF == ord('q'):\n",
    "        #break    \n",
    "\n",
    "cap.release()\n",
    "#cv2.destroyAllWindows()"
   ]
  },
  {
   "cell_type": "code",
   "execution_count": 10,
   "metadata": {},
   "outputs": [
    {
     "name": "stdout",
     "output_type": "stream",
     "text": [
      "12925\n"
     ]
    }
   ],
   "source": [
    "print(len(brightness_vals))"
   ]
  },
  {
   "cell_type": "code",
   "execution_count": 4,
   "metadata": {
    "collapsed": true
   },
   "outputs": [],
   "source": [
    "def stream_data(url):\n",
    "    vPafy = pafy.new(url)\n",
    "    play = vPafy.getbest(preftype=\"webm\")\n",
    "\n",
    "    #start the video\n",
    "    cap = cv2.VideoCapture(play.url)\n",
    "    brightness_vals = [] #avg brightness for each frame\n",
    "\n",
    "    while (True):\n",
    "        ret,frame = cap.read()\n",
    "        if type(frame) == type(None):\n",
    "            break\n",
    "        brightness_vals.append(brightness(frame))\n",
    "        if cv2.waitKey(20) & 0xFF == ord('q'):\n",
    "            break    \n",
    "\n",
    "    cap.release()\n",
    "    return brightness_vals"
   ]
  },
  {
   "cell_type": "code",
   "execution_count": 5,
   "metadata": {
    "collapsed": true
   },
   "outputs": [],
   "source": [
    "url_list = ['https://www.youtube.com/watch?v=Q2c2mPpvcpw',\n",
    "            'https://www.youtube.com/watch?v=J8E1g-cHV5M',\n",
    "            'https://www.youtube.com/watch?v=hf9k3Xb5x6Y',\n",
    "            'https://www.youtube.com/watch?v=1upXsnnPf2o',\n",
    "            'https://www.youtube.com/watch?v=Q1IRVcPOXyY',\n",
    "            'https://www.youtube.com/watch?v=Hq2SlCja3zo']\n",
    "X_train =[]\n",
    "for url in url_list:\n",
    "    X_train = X_train + stream_data(url)"
   ]
  },
  {
   "cell_type": "markdown",
   "metadata": {},
   "source": [
    "# Prep Data for Model"
   ]
  },
  {
   "cell_type": "code",
   "execution_count": 6,
   "metadata": {
    "collapsed": true
   },
   "outputs": [],
   "source": [
    "from sklearn.preprocessing import StandardScaler"
   ]
  },
  {
   "cell_type": "code",
   "execution_count": 7,
   "metadata": {},
   "outputs": [
    {
     "name": "stdout",
     "output_type": "stream",
     "text": [
      "[[0.        ]\n",
      " [0.        ]\n",
      " [0.        ]\n",
      " ...\n",
      " [1.89721599]\n",
      " [1.89721599]\n",
      " [1.89721599]]\n"
     ]
    },
    {
     "data": {
      "text/plain": [
       "StandardScaler(copy=True, with_mean=True, with_std=True)"
      ]
     },
     "execution_count": 7,
     "metadata": {},
     "output_type": "execute_result"
    }
   ],
   "source": [
    "scaler = StandardScaler()\n",
    "X_train_scaled = np.array(X_train).reshape(-1, 1)\n",
    "print(X_train_scaled)\n",
    "scaler.fit(X_train_scaled)"
   ]
  },
  {
   "cell_type": "code",
   "execution_count": 8,
   "metadata": {
    "collapsed": true
   },
   "outputs": [],
   "source": [
    "X_train_scaled = scaler.transform(X_train_scaled)"
   ]
  },
  {
   "cell_type": "code",
   "execution_count": 9,
   "metadata": {
    "collapsed": true
   },
   "outputs": [],
   "source": [
    "#sliding window\n",
    "def make_windows(data, size):\n",
    "    X = []\n",
    "    \n",
    "    i = 0\n",
    "    while(i+size) <= len(data)-1:\n",
    "        X.append(data[i:i+size])\n",
    "        i += 1\n",
    "        \n",
    "    return X\n",
    "    "
   ]
  },
  {
   "cell_type": "code",
   "execution_count": 10,
   "metadata": {
    "collapsed": true
   },
   "outputs": [],
   "source": [
    "X_train_win = make_windows(X_train_scaled, 24)"
   ]
  },
  {
   "cell_type": "code",
   "execution_count": 14,
   "metadata": {},
   "outputs": [
    {
     "name": "stdout",
     "output_type": "stream",
     "text": [
      "(112803, 24, 1)\n"
     ]
    }
   ],
   "source": [
    "X_train_win = np.array(X_train_win).reshape(len(X_train_win), 24, 1)\n",
    "print(X_train_win.shape)"
   ]
  },
  {
   "cell_type": "markdown",
   "metadata": {},
   "source": [
    "# Build Model"
   ]
  },
  {
   "cell_type": "code",
   "execution_count": 11,
   "metadata": {},
   "outputs": [
    {
     "name": "stderr",
     "output_type": "stream",
     "text": [
      "C:\\Users\\Adrian\\Anaconda3\\lib\\site-packages\\h5py\\__init__.py:34: FutureWarning: Conversion of the second argument of issubdtype from `float` to `np.floating` is deprecated. In future, it will be treated as `np.float64 == np.dtype(float).type`.\n",
      "  from ._conv import register_converters as _register_converters\n",
      "Using TensorFlow backend.\n"
     ]
    }
   ],
   "source": [
    "import tensorflow as tf\n",
    "from keras.layers import TimeDistributed, RepeatVector, LSTM, Dense\n",
    "from keras.models import Sequential"
   ]
  },
  {
   "cell_type": "code",
   "execution_count": 16,
   "metadata": {
    "collapsed": true
   },
   "outputs": [],
   "source": [
    "model = Sequential()\n",
    "model.add(LSTM(30, activation='relu', input_shape=(24,1)))\n",
    "model.add(RepeatVector(24))\n",
    "model.add(LSTM(30, activation='relu', return_sequences=True))\n",
    "model.add(TimeDistributed(Dense(1)))\n",
    "model.compile(optimizer='adam', loss='mse')"
   ]
  },
  {
   "cell_type": "code",
   "execution_count": 18,
   "metadata": {},
   "outputs": [
    {
     "name": "stdout",
     "output_type": "stream",
     "text": [
      "Epoch 1/64\n",
      "112803/112803 [==============================] - 52s 462us/step - loss: 0.0224\n",
      "Epoch 2/64\n",
      "112803/112803 [==============================] - 54s 479us/step - loss: 0.0154\n",
      "Epoch 3/64\n",
      "112803/112803 [==============================] - 54s 483us/step - loss: 0.0116\n",
      "Epoch 4/64\n",
      "112803/112803 [==============================] - 55s 488us/step - loss: 0.0103\n",
      "Epoch 5/64\n",
      "112803/112803 [==============================] - 55s 486us/step - loss: 0.0088\n",
      "Epoch 6/64\n",
      "112803/112803 [==============================] - 55s 484us/step - loss: 0.0079\n",
      "Epoch 7/64\n",
      "112803/112803 [==============================] - 54s 476us/step - loss: 0.0071\n",
      "Epoch 8/64\n",
      "112803/112803 [==============================] - 54s 478us/step - loss: 0.0063\n",
      "Epoch 9/64\n",
      "112803/112803 [==============================] - 54s 478us/step - loss: 0.0057\n",
      "Epoch 10/64\n",
      "112803/112803 [==============================] - 54s 478us/step - loss: 0.0053\n",
      "Epoch 11/64\n",
      "112803/112803 [==============================] - 54s 477us/step - loss: 0.0050\n",
      "Epoch 12/64\n",
      "112803/112803 [==============================] - 1115s 10ms/step - loss: 0.0048\n",
      "Epoch 13/64\n",
      "112803/112803 [==============================] - 51s 454us/step - loss: 0.0044\n",
      "Epoch 14/64\n",
      "112803/112803 [==============================] - 52s 459us/step - loss: 0.0041\n",
      "Epoch 15/64\n",
      "112803/112803 [==============================] - 53s 469us/step - loss: 0.0041\n",
      "Epoch 16/64\n",
      "112803/112803 [==============================] - 53s 471us/step - loss: 0.0039\n",
      "Epoch 17/64\n",
      "112803/112803 [==============================] - 53s 474us/step - loss: 0.0038\n",
      "Epoch 18/64\n",
      "112803/112803 [==============================] - 55s 490us/step - loss: 0.0034\n",
      "Epoch 19/64\n",
      "112803/112803 [==============================] - 54s 482us/step - loss: 0.0035\n",
      "Epoch 20/64\n",
      "112803/112803 [==============================] - 55s 484us/step - loss: 0.0034\n",
      "Epoch 21/64\n",
      "112803/112803 [==============================] - 55s 486us/step - loss: 0.0034\n",
      "Epoch 22/64\n",
      "112803/112803 [==============================] - 55s 487us/step - loss: 0.0030\n",
      "Epoch 23/64\n",
      "112803/112803 [==============================] - 55s 491us/step - loss: 0.0031\n",
      "Epoch 24/64\n",
      "112803/112803 [==============================] - 55s 485us/step - loss: 0.0030\n",
      "Epoch 25/64\n",
      "112803/112803 [==============================] - 54s 479us/step - loss: 0.0030\n",
      "Epoch 26/64\n",
      "112803/112803 [==============================] - 54s 483us/step - loss: 0.0029\n",
      "Epoch 27/64\n",
      "112803/112803 [==============================] - 54s 479us/step - loss: 0.0029\n",
      "Epoch 28/64\n",
      "112803/112803 [==============================] - 54s 479us/step - loss: 0.0025\n",
      "Epoch 29/64\n",
      "112803/112803 [==============================] - 811s 7ms/step - loss: 0.0028\n",
      "Epoch 30/64\n",
      "112803/112803 [==============================] - 52s 465us/step - loss: 0.0026\n",
      "Epoch 31/64\n",
      "112803/112803 [==============================] - 52s 458us/step - loss: 0.0026\n",
      "Epoch 32/64\n",
      "112803/112803 [==============================] - 52s 464us/step - loss: 0.0025\n",
      "Epoch 33/64\n",
      "112803/112803 [==============================] - 53s 469us/step - loss: 0.0027\n",
      "Epoch 34/64\n",
      "112803/112803 [==============================] - 53s 471us/step - loss: 0.0024\n",
      "Epoch 35/64\n",
      "112803/112803 [==============================] - 53s 473us/step - loss: 0.0024\n",
      "Epoch 36/64\n",
      "112803/112803 [==============================] - 54s 475us/step - loss: 0.0022\n",
      "Epoch 37/64\n",
      "112803/112803 [==============================] - 54s 479us/step - loss: 0.0025\n",
      "Epoch 38/64\n",
      "112803/112803 [==============================] - 54s 477us/step - loss: 0.0024\n",
      "Epoch 39/64\n",
      "112803/112803 [==============================] - 54s 478us/step - loss: 0.0022\n",
      "Epoch 40/64\n",
      "112803/112803 [==============================] - 54s 479us/step - loss: 0.0022\n",
      "Epoch 41/64\n",
      "112803/112803 [==============================] - 57s 503us/step - loss: 0.0023\n",
      "Epoch 42/64\n",
      "112803/112803 [==============================] - 55s 491us/step - loss: 0.0021\n",
      "Epoch 43/64\n",
      "112803/112803 [==============================] - 56s 492us/step - loss: 0.0021\n",
      "Epoch 44/64\n",
      "112803/112803 [==============================] - 56s 494us/step - loss: 0.0020\n",
      "Epoch 45/64\n",
      "112803/112803 [==============================] - 56s 494us/step - loss: 0.0022\n",
      "Epoch 46/64\n",
      "112803/112803 [==============================] - 56s 496us/step - loss: 0.0022\n",
      "Epoch 47/64\n",
      "112803/112803 [==============================] - 55s 492us/step - loss: 0.0018\n",
      "Epoch 48/64\n",
      "112803/112803 [==============================] - 55s 490us/step - loss: 0.0020\n",
      "Epoch 49/64\n",
      "112803/112803 [==============================] - 55s 487us/step - loss: 0.0020\n",
      "Epoch 50/64\n",
      "112803/112803 [==============================] - 55s 486us/step - loss: 0.0018\n",
      "Epoch 51/64\n",
      "112803/112803 [==============================] - 55s 487us/step - loss: 0.0019\n",
      "Epoch 52/64\n",
      "112803/112803 [==============================] - 954s 8ms/step - loss: 0.0019\n",
      "Epoch 53/64\n",
      "112803/112803 [==============================] - 4232s 38ms/step - loss: 0.0018\n",
      "Epoch 54/64\n",
      "112803/112803 [==============================] - 51s 449us/step - loss: 0.0016\n",
      "Epoch 55/64\n",
      "112803/112803 [==============================] - 50s 445us/step - loss: 0.0018\n",
      "Epoch 56/64\n",
      "112803/112803 [==============================] - 50s 446us/step - loss: 0.0019\n",
      "Epoch 57/64\n",
      "112803/112803 [==============================] - 50s 445us/step - loss: 0.0018\n",
      "Epoch 58/64\n",
      "112803/112803 [==============================] - 51s 448us/step - loss: 0.0019\n",
      "Epoch 59/64\n",
      "112803/112803 [==============================] - 52s 464us/step - loss: 0.0016\n",
      "Epoch 60/64\n",
      "112803/112803 [==============================] - 54s 483us/step - loss: 0.0018\n",
      "Epoch 61/64\n",
      " 78016/112803 [===================>..........] - ETA: 16s - loss: 0.0016"
     ]
    },
    {
     "ename": "KeyboardInterrupt",
     "evalue": "",
     "output_type": "error",
     "traceback": [
      "\u001b[1;31m---------------------------------------------------------------------------\u001b[0m",
      "\u001b[1;31mKeyboardInterrupt\u001b[0m                         Traceback (most recent call last)",
      "\u001b[1;32m<ipython-input-18-35dc585637f1>\u001b[0m in \u001b[0;36m<module>\u001b[1;34m()\u001b[0m\n\u001b[1;32m----> 1\u001b[1;33m \u001b[0mmodel\u001b[0m\u001b[1;33m.\u001b[0m\u001b[0mfit\u001b[0m\u001b[1;33m(\u001b[0m\u001b[0mX_train_win\u001b[0m\u001b[1;33m,\u001b[0m \u001b[0mX_train_win\u001b[0m\u001b[1;33m,\u001b[0m \u001b[0mepochs\u001b[0m \u001b[1;33m=\u001b[0m \u001b[1;36m64\u001b[0m\u001b[1;33m,\u001b[0m \u001b[0mverbose\u001b[0m \u001b[1;33m=\u001b[0m \u001b[1;36m1\u001b[0m\u001b[1;33m)\u001b[0m\u001b[1;33m\u001b[0m\u001b[0m\n\u001b[0m",
      "\u001b[1;32m~\\Anaconda3\\lib\\site-packages\\keras\\models.py\u001b[0m in \u001b[0;36mfit\u001b[1;34m(self, x, y, batch_size, epochs, verbose, callbacks, validation_split, validation_data, shuffle, class_weight, sample_weight, initial_epoch, steps_per_epoch, validation_steps, **kwargs)\u001b[0m\n\u001b[0;32m    961\u001b[0m                               \u001b[0minitial_epoch\u001b[0m\u001b[1;33m=\u001b[0m\u001b[0minitial_epoch\u001b[0m\u001b[1;33m,\u001b[0m\u001b[1;33m\u001b[0m\u001b[0m\n\u001b[0;32m    962\u001b[0m                               \u001b[0msteps_per_epoch\u001b[0m\u001b[1;33m=\u001b[0m\u001b[0msteps_per_epoch\u001b[0m\u001b[1;33m,\u001b[0m\u001b[1;33m\u001b[0m\u001b[0m\n\u001b[1;32m--> 963\u001b[1;33m                               validation_steps=validation_steps)\n\u001b[0m\u001b[0;32m    964\u001b[0m \u001b[1;33m\u001b[0m\u001b[0m\n\u001b[0;32m    965\u001b[0m     def evaluate(self, x=None, y=None,\n",
      "\u001b[1;32m~\\Anaconda3\\lib\\site-packages\\keras\\engine\\training.py\u001b[0m in \u001b[0;36mfit\u001b[1;34m(self, x, y, batch_size, epochs, verbose, callbacks, validation_split, validation_data, shuffle, class_weight, sample_weight, initial_epoch, steps_per_epoch, validation_steps, **kwargs)\u001b[0m\n\u001b[0;32m   1710\u001b[0m                               \u001b[0minitial_epoch\u001b[0m\u001b[1;33m=\u001b[0m\u001b[0minitial_epoch\u001b[0m\u001b[1;33m,\u001b[0m\u001b[1;33m\u001b[0m\u001b[0m\n\u001b[0;32m   1711\u001b[0m                               \u001b[0msteps_per_epoch\u001b[0m\u001b[1;33m=\u001b[0m\u001b[0msteps_per_epoch\u001b[0m\u001b[1;33m,\u001b[0m\u001b[1;33m\u001b[0m\u001b[0m\n\u001b[1;32m-> 1712\u001b[1;33m                               validation_steps=validation_steps)\n\u001b[0m\u001b[0;32m   1713\u001b[0m \u001b[1;33m\u001b[0m\u001b[0m\n\u001b[0;32m   1714\u001b[0m     def evaluate(self, x=None, y=None,\n",
      "\u001b[1;32m~\\Anaconda3\\lib\\site-packages\\keras\\engine\\training.py\u001b[0m in \u001b[0;36m_fit_loop\u001b[1;34m(self, f, ins, out_labels, batch_size, epochs, verbose, callbacks, val_f, val_ins, shuffle, callback_metrics, initial_epoch, steps_per_epoch, validation_steps)\u001b[0m\n\u001b[0;32m   1233\u001b[0m                         \u001b[0mins_batch\u001b[0m\u001b[1;33m[\u001b[0m\u001b[0mi\u001b[0m\u001b[1;33m]\u001b[0m \u001b[1;33m=\u001b[0m \u001b[0mins_batch\u001b[0m\u001b[1;33m[\u001b[0m\u001b[0mi\u001b[0m\u001b[1;33m]\u001b[0m\u001b[1;33m.\u001b[0m\u001b[0mtoarray\u001b[0m\u001b[1;33m(\u001b[0m\u001b[1;33m)\u001b[0m\u001b[1;33m\u001b[0m\u001b[0m\n\u001b[0;32m   1234\u001b[0m \u001b[1;33m\u001b[0m\u001b[0m\n\u001b[1;32m-> 1235\u001b[1;33m                     \u001b[0mouts\u001b[0m \u001b[1;33m=\u001b[0m \u001b[0mf\u001b[0m\u001b[1;33m(\u001b[0m\u001b[0mins_batch\u001b[0m\u001b[1;33m)\u001b[0m\u001b[1;33m\u001b[0m\u001b[0m\n\u001b[0m\u001b[0;32m   1236\u001b[0m                     \u001b[1;32mif\u001b[0m \u001b[1;32mnot\u001b[0m \u001b[0misinstance\u001b[0m\u001b[1;33m(\u001b[0m\u001b[0mouts\u001b[0m\u001b[1;33m,\u001b[0m \u001b[0mlist\u001b[0m\u001b[1;33m)\u001b[0m\u001b[1;33m:\u001b[0m\u001b[1;33m\u001b[0m\u001b[0m\n\u001b[0;32m   1237\u001b[0m                         \u001b[0mouts\u001b[0m \u001b[1;33m=\u001b[0m \u001b[1;33m[\u001b[0m\u001b[0mouts\u001b[0m\u001b[1;33m]\u001b[0m\u001b[1;33m\u001b[0m\u001b[0m\n",
      "\u001b[1;32m~\\Anaconda3\\lib\\site-packages\\keras\\backend\\tensorflow_backend.py\u001b[0m in \u001b[0;36m__call__\u001b[1;34m(self, inputs)\u001b[0m\n\u001b[0;32m   2473\u001b[0m         \u001b[0msession\u001b[0m \u001b[1;33m=\u001b[0m \u001b[0mget_session\u001b[0m\u001b[1;33m(\u001b[0m\u001b[1;33m)\u001b[0m\u001b[1;33m\u001b[0m\u001b[0m\n\u001b[0;32m   2474\u001b[0m         updated = session.run(fetches=fetches, feed_dict=feed_dict,\n\u001b[1;32m-> 2475\u001b[1;33m                               **self.session_kwargs)\n\u001b[0m\u001b[0;32m   2476\u001b[0m         \u001b[1;32mreturn\u001b[0m \u001b[0mupdated\u001b[0m\u001b[1;33m[\u001b[0m\u001b[1;33m:\u001b[0m\u001b[0mlen\u001b[0m\u001b[1;33m(\u001b[0m\u001b[0mself\u001b[0m\u001b[1;33m.\u001b[0m\u001b[0moutputs\u001b[0m\u001b[1;33m)\u001b[0m\u001b[1;33m]\u001b[0m\u001b[1;33m\u001b[0m\u001b[0m\n\u001b[0;32m   2477\u001b[0m \u001b[1;33m\u001b[0m\u001b[0m\n",
      "\u001b[1;32m~\\Anaconda3\\lib\\site-packages\\tensorflow\\python\\client\\session.py\u001b[0m in \u001b[0;36mrun\u001b[1;34m(self, fetches, feed_dict, options, run_metadata)\u001b[0m\n\u001b[0;32m    893\u001b[0m     \u001b[1;32mtry\u001b[0m\u001b[1;33m:\u001b[0m\u001b[1;33m\u001b[0m\u001b[0m\n\u001b[0;32m    894\u001b[0m       result = self._run(None, fetches, feed_dict, options_ptr,\n\u001b[1;32m--> 895\u001b[1;33m                          run_metadata_ptr)\n\u001b[0m\u001b[0;32m    896\u001b[0m       \u001b[1;32mif\u001b[0m \u001b[0mrun_metadata\u001b[0m\u001b[1;33m:\u001b[0m\u001b[1;33m\u001b[0m\u001b[0m\n\u001b[0;32m    897\u001b[0m         \u001b[0mproto_data\u001b[0m \u001b[1;33m=\u001b[0m \u001b[0mtf_session\u001b[0m\u001b[1;33m.\u001b[0m\u001b[0mTF_GetBuffer\u001b[0m\u001b[1;33m(\u001b[0m\u001b[0mrun_metadata_ptr\u001b[0m\u001b[1;33m)\u001b[0m\u001b[1;33m\u001b[0m\u001b[0m\n",
      "\u001b[1;32m~\\Anaconda3\\lib\\site-packages\\tensorflow\\python\\client\\session.py\u001b[0m in \u001b[0;36m_run\u001b[1;34m(self, handle, fetches, feed_dict, options, run_metadata)\u001b[0m\n\u001b[0;32m   1126\u001b[0m     \u001b[1;32mif\u001b[0m \u001b[0mfinal_fetches\u001b[0m \u001b[1;32mor\u001b[0m \u001b[0mfinal_targets\u001b[0m \u001b[1;32mor\u001b[0m \u001b[1;33m(\u001b[0m\u001b[0mhandle\u001b[0m \u001b[1;32mand\u001b[0m \u001b[0mfeed_dict_tensor\u001b[0m\u001b[1;33m)\u001b[0m\u001b[1;33m:\u001b[0m\u001b[1;33m\u001b[0m\u001b[0m\n\u001b[0;32m   1127\u001b[0m       results = self._do_run(handle, final_targets, final_fetches,\n\u001b[1;32m-> 1128\u001b[1;33m                              feed_dict_tensor, options, run_metadata)\n\u001b[0m\u001b[0;32m   1129\u001b[0m     \u001b[1;32melse\u001b[0m\u001b[1;33m:\u001b[0m\u001b[1;33m\u001b[0m\u001b[0m\n\u001b[0;32m   1130\u001b[0m       \u001b[0mresults\u001b[0m \u001b[1;33m=\u001b[0m \u001b[1;33m[\u001b[0m\u001b[1;33m]\u001b[0m\u001b[1;33m\u001b[0m\u001b[0m\n",
      "\u001b[1;32m~\\Anaconda3\\lib\\site-packages\\tensorflow\\python\\client\\session.py\u001b[0m in \u001b[0;36m_do_run\u001b[1;34m(self, handle, target_list, fetch_list, feed_dict, options, run_metadata)\u001b[0m\n\u001b[0;32m   1342\u001b[0m     \u001b[1;32mif\u001b[0m \u001b[0mhandle\u001b[0m \u001b[1;32mis\u001b[0m \u001b[1;32mNone\u001b[0m\u001b[1;33m:\u001b[0m\u001b[1;33m\u001b[0m\u001b[0m\n\u001b[0;32m   1343\u001b[0m       return self._do_call(_run_fn, self._session, feeds, fetches, targets,\n\u001b[1;32m-> 1344\u001b[1;33m                            options, run_metadata)\n\u001b[0m\u001b[0;32m   1345\u001b[0m     \u001b[1;32melse\u001b[0m\u001b[1;33m:\u001b[0m\u001b[1;33m\u001b[0m\u001b[0m\n\u001b[0;32m   1346\u001b[0m       \u001b[1;32mreturn\u001b[0m \u001b[0mself\u001b[0m\u001b[1;33m.\u001b[0m\u001b[0m_do_call\u001b[0m\u001b[1;33m(\u001b[0m\u001b[0m_prun_fn\u001b[0m\u001b[1;33m,\u001b[0m \u001b[0mself\u001b[0m\u001b[1;33m.\u001b[0m\u001b[0m_session\u001b[0m\u001b[1;33m,\u001b[0m \u001b[0mhandle\u001b[0m\u001b[1;33m,\u001b[0m \u001b[0mfeeds\u001b[0m\u001b[1;33m,\u001b[0m \u001b[0mfetches\u001b[0m\u001b[1;33m)\u001b[0m\u001b[1;33m\u001b[0m\u001b[0m\n",
      "\u001b[1;32m~\\Anaconda3\\lib\\site-packages\\tensorflow\\python\\client\\session.py\u001b[0m in \u001b[0;36m_do_call\u001b[1;34m(self, fn, *args)\u001b[0m\n\u001b[0;32m   1348\u001b[0m   \u001b[1;32mdef\u001b[0m \u001b[0m_do_call\u001b[0m\u001b[1;33m(\u001b[0m\u001b[0mself\u001b[0m\u001b[1;33m,\u001b[0m \u001b[0mfn\u001b[0m\u001b[1;33m,\u001b[0m \u001b[1;33m*\u001b[0m\u001b[0margs\u001b[0m\u001b[1;33m)\u001b[0m\u001b[1;33m:\u001b[0m\u001b[1;33m\u001b[0m\u001b[0m\n\u001b[0;32m   1349\u001b[0m     \u001b[1;32mtry\u001b[0m\u001b[1;33m:\u001b[0m\u001b[1;33m\u001b[0m\u001b[0m\n\u001b[1;32m-> 1350\u001b[1;33m       \u001b[1;32mreturn\u001b[0m \u001b[0mfn\u001b[0m\u001b[1;33m(\u001b[0m\u001b[1;33m*\u001b[0m\u001b[0margs\u001b[0m\u001b[1;33m)\u001b[0m\u001b[1;33m\u001b[0m\u001b[0m\n\u001b[0m\u001b[0;32m   1351\u001b[0m     \u001b[1;32mexcept\u001b[0m \u001b[0merrors\u001b[0m\u001b[1;33m.\u001b[0m\u001b[0mOpError\u001b[0m \u001b[1;32mas\u001b[0m \u001b[0me\u001b[0m\u001b[1;33m:\u001b[0m\u001b[1;33m\u001b[0m\u001b[0m\n\u001b[0;32m   1352\u001b[0m       \u001b[0mmessage\u001b[0m \u001b[1;33m=\u001b[0m \u001b[0mcompat\u001b[0m\u001b[1;33m.\u001b[0m\u001b[0mas_text\u001b[0m\u001b[1;33m(\u001b[0m\u001b[0me\u001b[0m\u001b[1;33m.\u001b[0m\u001b[0mmessage\u001b[0m\u001b[1;33m)\u001b[0m\u001b[1;33m\u001b[0m\u001b[0m\n",
      "\u001b[1;32m~\\Anaconda3\\lib\\site-packages\\tensorflow\\python\\client\\session.py\u001b[0m in \u001b[0;36m_run_fn\u001b[1;34m(session, feed_dict, fetch_list, target_list, options, run_metadata)\u001b[0m\n\u001b[0;32m   1327\u001b[0m           return tf_session.TF_Run(session, options,\n\u001b[0;32m   1328\u001b[0m                                    \u001b[0mfeed_dict\u001b[0m\u001b[1;33m,\u001b[0m \u001b[0mfetch_list\u001b[0m\u001b[1;33m,\u001b[0m \u001b[0mtarget_list\u001b[0m\u001b[1;33m,\u001b[0m\u001b[1;33m\u001b[0m\u001b[0m\n\u001b[1;32m-> 1329\u001b[1;33m                                    status, run_metadata)\n\u001b[0m\u001b[0;32m   1330\u001b[0m \u001b[1;33m\u001b[0m\u001b[0m\n\u001b[0;32m   1331\u001b[0m     \u001b[1;32mdef\u001b[0m \u001b[0m_prun_fn\u001b[0m\u001b[1;33m(\u001b[0m\u001b[0msession\u001b[0m\u001b[1;33m,\u001b[0m \u001b[0mhandle\u001b[0m\u001b[1;33m,\u001b[0m \u001b[0mfeed_dict\u001b[0m\u001b[1;33m,\u001b[0m \u001b[0mfetch_list\u001b[0m\u001b[1;33m)\u001b[0m\u001b[1;33m:\u001b[0m\u001b[1;33m\u001b[0m\u001b[0m\n",
      "\u001b[1;31mKeyboardInterrupt\u001b[0m: "
     ]
    }
   ],
   "source": [
    "model.fit(X_train_win, X_train_win, epochs = 64, verbose = 1)"
   ]
  },
  {
   "cell_type": "code",
   "execution_count": 25,
   "metadata": {},
   "outputs": [
    {
     "name": "stdout",
     "output_type": "stream",
     "text": [
      "112803/112803 [==============================] - 12s 104us/step\n"
     ]
    }
   ],
   "source": [
    "prediction_ben = model.predict(X_train_win, verbose = 1)"
   ]
  },
  {
   "cell_type": "code",
   "execution_count": 33,
   "metadata": {},
   "outputs": [],
   "source": [
    "mae_of_predictions = np.squeeze(np.max(np.square(prediction_ben-X_train_win), axis=1))\n",
    "mae_threshold = np.mean(mae_of_predictions) + np.std(mae_of_predictions)  # can use a running mean instead.\n",
    "actual = np.where(mae_of_predictions > mae_threshold)[0]"
   ]
  },
  {
   "cell_type": "code",
   "execution_count": 35,
   "metadata": {},
   "outputs": [
    {
     "name": "stdout",
     "output_type": "stream",
     "text": [
      "1949\n"
     ]
    }
   ],
   "source": [
    "print(len(actual))"
   ]
  },
  {
   "cell_type": "code",
   "execution_count": 24,
   "metadata": {},
   "outputs": [
    {
     "name": "stdout",
     "output_type": "stream",
     "text": [
      "[-0.22102813] [-0.13108449]\n",
      "[0.08479418] [0.07920387]\n",
      "[0.17881366] [0.18141212]\n",
      "[0.17821184] [0.20882054]\n",
      "[0.17720737] [0.19528128]\n",
      "[0.17727538] [0.18226063]\n",
      "[0.17620465] [0.17363654]\n",
      "[0.17566793] [0.16722058]\n",
      "[0.17498195] [0.16540202]\n",
      "[0.17427984] [0.16294044]\n",
      "[0.1737172] [0.16161388]\n",
      "[0.17353095] [0.16136962]\n",
      "[0.17245258] [0.16202621]\n",
      "[0.17156653] [0.16389944]\n",
      "[0.17233342] [0.16742028]\n",
      "[0.17164259] [0.1717392]\n",
      "[0.17148725] [0.17353605]\n",
      "[0.17024882] [0.17391552]\n",
      "[0.16989415] [0.17439032]\n",
      "[0.16867155] [0.1787375]\n",
      "[0.16867683] [0.18208717]\n",
      "[0.16647036] [0.18318225]\n",
      "[0.16655455] [0.18029657]\n",
      "[0.17644575] [0.17197579]\n"
     ]
    },
    {
     "ename": "IndexError",
     "evalue": "index 24 is out of bounds for axis 0 with size 24",
     "output_type": "error",
     "traceback": [
      "\u001b[1;31m---------------------------------------------------------------------------\u001b[0m",
      "\u001b[1;31mIndexError\u001b[0m                                Traceback (most recent call last)",
      "\u001b[1;32m<ipython-input-24-b6164bd30acf>\u001b[0m in \u001b[0;36m<module>\u001b[1;34m()\u001b[0m\n\u001b[0;32m      1\u001b[0m \u001b[1;32mfor\u001b[0m \u001b[0mi\u001b[0m \u001b[1;32min\u001b[0m \u001b[0mrange\u001b[0m\u001b[1;33m(\u001b[0m\u001b[1;36m25\u001b[0m\u001b[1;33m)\u001b[0m\u001b[1;33m:\u001b[0m\u001b[1;33m\u001b[0m\u001b[0m\n\u001b[1;32m----> 2\u001b[1;33m     \u001b[0mprint\u001b[0m\u001b[1;33m(\u001b[0m\u001b[0mX_train_win\u001b[0m\u001b[1;33m[\u001b[0m\u001b[1;36m33\u001b[0m\u001b[1;33m]\u001b[0m\u001b[1;33m[\u001b[0m\u001b[0mi\u001b[0m\u001b[1;33m]\u001b[0m\u001b[1;33m,\u001b[0m \u001b[0mprediction_ben\u001b[0m\u001b[1;33m[\u001b[0m\u001b[1;36m0\u001b[0m\u001b[1;33m]\u001b[0m\u001b[1;33m[\u001b[0m\u001b[0mi\u001b[0m\u001b[1;33m]\u001b[0m\u001b[1;33m)\u001b[0m\u001b[1;33m\u001b[0m\u001b[0m\n\u001b[0m",
      "\u001b[1;31mIndexError\u001b[0m: index 24 is out of bounds for axis 0 with size 24"
     ]
    }
   ],
   "source": [
    "for i in range(24):\n",
    "    print(X_train_win[33][i], prediction_ben[0][i])"
   ]
  },
  {
   "cell_type": "code",
   "execution_count": 48,
   "metadata": {},
   "outputs": [],
   "source": [
    "porygon = stream_data('https://www.youtube.com/watch?v=atkD-beZ9oI')\n",
    "ben_test = stream_data('https://www.youtube.com/watch?v=NjDCH6SiMgo')"
   ]
  },
  {
   "cell_type": "code",
   "execution_count": 49,
   "metadata": {},
   "outputs": [
    {
     "name": "stdout",
     "output_type": "stream",
     "text": [
      "[[118.49259969]\n",
      " [118.5745305 ]\n",
      " [118.58804253]\n",
      " ...\n",
      " [ 73.76546287]\n",
      " [ 73.75409171]\n",
      " [ 73.7849512 ]]\n"
     ]
    }
   ],
   "source": [
    "ben_test = np.array(ben_test).reshape(-1,1)\n",
    "print(ben_test)"
   ]
  },
  {
   "cell_type": "code",
   "execution_count": 50,
   "metadata": {},
   "outputs": [
    {
     "name": "stdout",
     "output_type": "stream",
     "text": [
      "[[ 0.44301436]\n",
      " [ 0.44480081]\n",
      " [ 0.44509543]\n",
      " ...\n",
      " [-0.53223493]\n",
      " [-0.53248287]\n",
      " [-0.53180999]]\n"
     ]
    }
   ],
   "source": [
    "ben_test_scaled = scaler.transform(ben_test)\n",
    "print(ben_test_scaled)"
   ]
  },
  {
   "cell_type": "code",
   "execution_count": null,
   "metadata": {
    "collapsed": true
   },
   "outputs": [],
   "source": []
  },
  {
   "cell_type": "code",
   "execution_count": null,
   "metadata": {
    "collapsed": true
   },
   "outputs": [],
   "source": []
  },
  {
   "cell_type": "code",
   "execution_count": 101,
   "metadata": {},
   "outputs": [
    {
     "name": "stdout",
     "output_type": "stream",
     "text": [
      "[8.807187499999998, 8.808598090277778, 8.808580729166666, 8.808502604166666, 8.820520833333333, 8.819227430555555, 8.819739583333334, 8.819470486111111, 8.819470486111111, 8.82009548611111, 8.819466145833333, 8.819461805555555, 8.8201953125, 8.819453125, 8.819453125, 8.820763888888889, 8.820763888888889, 8.820763888888889, 8.820755208333333, 8.820746527777779, 8.820746527777779, 8.820746527777779, 8.820746527777779, 8.821480034722223, 8.821011284722223, 8.821831597222221, 8.821827256944445, 8.820551215277778, 8.82146267361111, 8.82146267361111, 8.81991753472222, 8.820972222222222, 8.820972222222222, 8.820972222222222, 8.820972222222222, 8.820972222222222, 8.820972222222222, 8.820972222222222, 8.820972222222222, 8.820972222222222, 8.820972222222222, 8.820972222222222, 8.820972222222222, 8.820972222222222, 8.820972222222222, 8.821236979166667, 8.822269965277778, 8.822269965277778, 8.822291666666667, 8.822452256944443, 8.822452256944443, 8.822543402777777, 8.822469618055555, 8.822469618055555, 8.822469618055555, 8.822469618055555, 8.822469618055555, 8.822469618055555, 8.822469618055555, 8.822469618055555, 8.82197048611111, 8.82197048611111, 8.82197048611111, 8.82197048611111, 8.82197048611111, 8.82197048611111, 8.82197048611111, 8.82197048611111, 8.82197048611111, 8.825169270833333, 8.825169270833333, 8.825169270833333, 8.825060763888887, 8.825286458333334, 8.825286458333334, 8.825525173611112, 8.825590277777778, 8.825590277777778, 8.825590277777778, 8.825269097222222, 8.825269097222222, 8.825269097222222, 8.825269097222222, 8.825269097222222, 8.825269097222222, 8.825269097222222, 8.825269097222222, 8.825269097222222, 8.825269097222222, 8.825269097222222, 8.825269097222222, 8.825269097222222, 8.826002604166666, 8.825993923611112, 8.825993923611112, 8.825993923611112, 8.826011284722222, 8.825598958333334, 8.825598958333334, 8.82579861111111, 8.825598958333334, 8.825598958333334, 8.825598958333334, 8.825598958333334, 8.825598958333334, 8.825598958333334, 8.825598958333334, 8.825598958333334, 8.825598958333334, 8.825598958333334, 8.825598958333334, 8.825598958333334, 8.825598958333334, 8.825598958333334, 8.825598958333334, 8.825828993055556, 8.825828993055556, 8.825828993055556, 8.825828993055556, 8.825828993055556, 8.825308159722223, 8.8233984375, 8.8233984375, 8.823702256944445, 8.8233984375, 8.8233984375, 8.8233984375, 8.823958333333334, 8.823958333333334, 8.823958333333334, 8.823958333333334, 8.823958333333334, 8.823958333333334, 8.823958333333334, 8.823958333333334, 8.823958333333334, 8.823958333333334, 8.823958333333334, 8.823958333333334, 8.823958333333334, 8.823958333333334, 8.823958333333334, 8.823958333333334, 8.824322916666667, 8.82490017361111, 8.824518229166667, 8.824574652777779, 8.824691840277778, 8.824574652777779, 8.824574652777779, 8.824574652777779, 8.824518229166667, 8.824518229166667, 8.824518229166667, 8.824518229166667, 8.824518229166667, 8.824518229166667, 8.824518229166667, 8.824518229166667, 8.824518229166667, 8.824518229166667, 8.824518229166667, 8.824518229166667, 8.824518229166667, 8.824518229166667, 8.824518229166667, 8.8253125, 8.8253125, 8.825698784722222, 8.825316840277777, 8.8253125, 8.825416666666667, 8.825316840277777, 8.825316840277777, 8.825316840277777, 8.825316840277777, 8.825316840277777, 8.825316840277777, 8.825316840277777, 8.825316840277777, 8.82534722222222, 8.82534722222222, 8.82534722222222, 8.82534722222222, 8.82534722222222, 8.82534722222222, 8.82534722222222, 8.82534722222222, 8.82534722222222, 8.826145833333333, 8.826145833333333, 8.826145833333333, 8.825972222222223, 8.826215277777777, 8.826215277777777, 8.826462673611111, 8.826163194444444, 8.826163194444444, 8.826163194444444, 8.826145833333333, 8.826145833333333, 8.826145833333333, 8.826145833333333, 8.826145833333333, 8.826145833333333, 8.826145833333333, 8.826145833333333, 8.826145833333333, 8.826145833333333, 8.826145833333333, 8.826145833333333, 8.826145833333333, 8.826102430555556, 8.826102430555556, 8.826102430555556, 8.826102430555556, 8.826302083333333, 8.825924479166666, 8.825924479166666, 8.826063368055554, 8.826280381944445, 8.825863715277778, 8.825863715277778, 8.825863715277778, 8.825863715277778, 8.825828993055556, 8.825828993055556, 8.825828993055556, 8.825828993055556, 8.825828993055556, 8.825828993055556, 8.825828993055556, 8.825828993055556, 8.825828993055556, 8.825828993055556, 8.825855034722222, 8.825855034722222, 8.825855034722222, 8.825855034722222, 8.825855034722222, 9.421106770833333, 9.4234765625, 9.4234765625, 9.422903645833333, 9.4234765625, 9.4234765625, 9.422903645833333, 9.42381076388889, 9.42381076388889, 9.423237847222222, 9.42381076388889, 9.42381076388889, 9.423237847222222, 9.42381076388889, 9.42381076388889, 9.423237847222222, 9.4180859375, 9.418077256944445, 9.417599826388889, 9.418077256944445, 9.418077256944445, 9.417599826388889, 9.418077256944445, 9.417599826388889, 9.417821180555556, 9.41810763888889, 9.41810763888889, 9.417630208333334, 9.41810763888889, 9.41810763888889, 9.417556423611112, 9.418033854166667, 9.418033854166667, 9.417556423611112, 9.41810763888889, 9.41810763888889, 9.417630208333334, 9.41810763888889, 9.41810763888889, 9.416449652777779, 9.416935763888887, 9.416935763888887, 9.416449652777779, 9.416935763888887, 9.416935763888887, 9.416449652777779, 9.416935763888887, 9.416449652777779, 9.416597222222222, 9.41697482638889, 9.41697482638889, 9.416488715277778, 9.417096354166667, 9.417096354166667, 9.416610243055555, 9.417096354166667, 9.417096354166667, 9.416610243055555, 9.417096354166667, 9.417096354166667, 9.416488715277778, 9.41697482638889, 9.4178125, 9.417690972222223, 9.4178125, 9.4178125, 9.417760416666667, 9.417803819444444, 9.417803819444444, 9.417682291666665, 9.417803819444444, 9.417747395833333, 9.418381076388888, 9.418068576388889, 9.418068576388889, 9.417469618055556, 9.41734375, 9.41734375, 9.41722222222222, 9.418042534722222, 9.418042534722222, 9.417994791666667, 9.41802951388889, 9.41802951388889, 9.41790798611111, 9.417782118055555, 9.417782118055555, 9.417217881944444, 9.41765625, 9.41765625, 9.417126736111111, 9.417565104166666, 9.417565104166666, 9.417126736111111, 9.417565104166666, 9.417126736111111, 9.417560763888888, 9.417786458333333, 9.417786458333333, 9.41722222222222, 9.417786458333333, 9.417786458333333, 9.41713107638889, 9.417786458333333, 9.417786458333333, 9.41713107638889, 9.417786458333333, 9.417786458333333, 9.417057291666667, 9.417712673611112, 9.417712673611112, 9.417057291666667, 9.417712673611112, 9.417712673611112, 9.417057291666667, 9.417712673611112, 9.417712673611112, 9.417057291666667, 9.417712673611112, 9.417057291666667, 38.13483506944444, 38.13313368055555, 38.13312065972222, 38.13312065972222, 38.13312065972222, 38.13312065972222, 38.13312065972222, 38.13312065972222, 38.13312065972222, 38.13312065972222, 38.13312065972222, 38.13312065972222, 38.13312065972222, 38.13312065972222, 38.13312065972222, 38.13312065972222, 38.13206597222222, 38.13206597222222, 38.13206597222222, 38.13206597222222, 38.13206597222222, 38.13206597222222, 38.13206597222222, 38.13206597222222, 38.13317708333333, 38.13247829861111, 38.13247829861111, 38.13247829861111, 38.13247829861111, 38.13247829861111, 38.13202690972222, 38.13202690972222, 38.13202690972222, 38.13202690972222, 38.13202690972222, 38.13202690972222, 38.13202690972222, 38.13202690972222, 38.13202690972222, 38.131922743055554, 38.131922743055554, 38.131922743055554, 38.131922743055554, 38.131922743055554, 38.131922743055554, 39.49896701388889, 39.49896701388889, 39.49896701388889, 39.49896701388889, 39.49896701388889, 39.49896701388889, 39.49896701388889, 39.49896701388889, 39.49896701388889, 39.49896701388889, 39.49881510416667, 39.49881510416667, 39.49881510416667, 39.49881510416667, 39.49881510416667, 39.49881510416667, 39.49881510416667, 39.49881510416667, 39.49881510416667, 39.49881510416667, 39.49881510416667, 39.49881510416667, 39.49881510416667, 39.49881510416667, 39.49881510416667, 39.49881510416667, 39.49881510416667, 39.49881510416667, 39.49754340277778, 39.49754340277778, 39.49754340277778, 39.49754340277778, 39.49754340277778, 39.49754340277778, 39.49754340277778, 39.49754340277778, 39.49754340277778, 39.49754340277778, 39.49754340277778, 39.49754340277778, 39.49754340277778, 39.49754340277778, 39.49754340277778, 39.49754340277778, 39.49754340277778, 15.87161892361111, 15.871610243055555, 15.871610243055555, 15.871610243055555, 15.871610243055555, 15.871610243055555, 15.871610243055555, 15.871610243055555, 15.871610243055555, 15.871610243055555, 15.871610243055555, 15.871610243055555, 15.871610243055555, 15.871610243055555, 15.871610243055555, 15.871610243055555, 15.871610243055555, 15.871610243055555, 15.871610243055555, 15.871610243055555, 15.871610243055555, 15.871610243055555, 15.871610243055555, 15.871610243055555, 15.871610243055555, 15.871610243055555, 15.871610243055555, 15.871610243055555, 15.871610243055555, 15.871610243055555, 15.871610243055555, 15.871610243055555, 15.871610243055555, 15.871610243055555, 15.871610243055555, 15.871610243055555, 15.871610243055555, 15.871610243055555, 15.871610243055555, 15.871610243055555, 15.871610243055555, 15.871610243055555, 15.871610243055555, 15.871610243055555, 15.871610243055555, 8.8723046875, 246.15384114583333, 8.820941840277778, 246.16389322916666, 8.822634548611111, 246.16103732638888, 8.824596354166667, 246.16475260416664, 8.823229166666666, 8.821397569444445, 246.19079861111112, 9.665494791666667, 246.1907595486111, 9.66423611111111, 246.1907595486111, 8.829405381944444, 246.1907595486111, 8.82736545138889, 8.825073784722223, 246.1907595486111, 8.81158420138889, 246.1487282986111, 8.804401041666667, 246.1676171875, 8.80443576388889, 246.1881640625, 8.804171006944445, 8.8029296875, 246.1829904513889, 8.804171006944445, 246.19563368055557, 9.6491796875, 246.19564670138885, 9.669322916666667, 246.19684895833333, 8.825143229166667, 8.824991319444445, 246.19564670138885, 8.817686631944442, 246.19564670138885, 8.817682291666667, 246.16124565972223, 8.824565972222222, 246.15575086805555, 8.8177734375, 8.816909722222222, 246.22256944444445, 8.81755642361111, 246.22252604166667, 8.81755642361111, 246.22252604166667, 8.804639756944445, 246.22253038194444, 8.804622395833333, 8.804609375, 246.21171875, 8.806371527777777, 246.23052083333334, 8.802690972222223, 246.15187065972222, 8.799401041666666, 246.17506510416666, 8.7991796875, 8.799166666666666, 246.16908854166667, 8.7991796875, 246.19178819444446, 9.641167534722221, 246.19172743055555, 9.595655381944445, 246.19171440972218, 8.820633680555556, 8.820438368055555, 246.19171440972218, 8.814192708333334, 246.19171440972218, 8.814192708333334, 246.15477864583335, 8.820073784722222, 246.16713541666667, 8.814366319444444, 8.814778645833334, 246.2375434027778, 8.813346354166667, 246.2374696180555, 8.813372395833333, 246.2374696180555, 8.808980034722222, 246.2374696180555, 8.808967013888887, 8.8083203125, 246.21356336805556, 8.806219618055556, 246.14431857638888, 8.799301215277778, 246.16211805555557, 8.799296875, 246.2275737847222, 8.799084201388888, 8.799088541666666, 246.22752604166666, 8.799084201388888, 246.2275217013889, 8.806080729166666, 246.2275173611111, 8.840911458333334, 246.1733159722222, 8.835611979166666, 8.835798611111109, 246.14475694444445, 8.818094618055554, 246.13541666666666, 8.814344618055555, 246.15034722222222, 8.811822916666667, 246.20744791666667, 8.811705729166667, 8.810824652777777, 246.20235677083332, 8.811857638888888, 246.2052300347222, 9.630407986111111, 246.20516059027779, 9.632994791666667, 246.2051345486111, 8.820477430555556, 8.820290798611111, 246.2051345486111, 8.813515624999999, 246.20510416666664, 8.820286458333333, 246.15390625, 8.817838541666665, 246.1702126736111, 8.817747395833333, 8.81634548611111, 246.22320746527777, 8.815889756944445, 246.2231814236111, 8.817513020833333, 246.2231814236111, 8.8105078125, 246.22314236111112, 8.810481770833333, 8.810512152777777, 246.2103515625, 8.811736111111111, 246.14442274305554, 8.804830729166667, 246.15381944444445, 8.804830729166667, 246.20572482638886, 8.804631076388889, 8.80462673611111, 246.20319010416665, 8.804631076388889, 246.18262586805557, 9.658645833333333, 246.18258246527776, 9.657847222222221, 246.182578125, 8.826184895833334, 8.82607638888889, 246.182578125, 8.8187109375, 246.182578125, 8.8187109375, 246.18407986111112, 8.8256640625, 246.16842013888888, 8.818776041666666, 8.818849826388888, 246.2284809027778, 8.8185546875, 246.22842447916668, 8.8185546875, 246.22840277777777, 8.83900607638889, 246.22842447916668, 8.836566840277776, 8.83654079861111, 246.2109765625, 8.814900173611111, 246.1511111111111, 8.808003472222222, 246.15636718749997, 8.808003472222222, 246.20422309027774, 8.807777777777778, 8.807777777777778, 246.19006510416668, 8.807777777777778, 246.20018229166666, 9.65075954861111, 246.20014322916666, 9.648784722222222, 246.20014322916666, 246.20014756944445, 8.811323784722223, 246.2012673611111, 8.811180555555554, 246.20014322916666, 8.820989583333333, 246.19254340277777, 8.8108984375, 8.809809027777778, 246.1925390625, 8.810885416666666, 246.19447482638887, 9.631961805555555, 246.1944357638889, 9.64708767361111, 246.1944357638889, 8.820494791666665, 8.820377604166667, 246.1944357638889, 8.813168402777777, 246.19444010416666, 8.813168402777777, 246.16440538194445, 8.81999565972222, 246.15023871527774, 8.813307291666666, 8.813372395833333, 246.21914930555556, 8.819544270833333, 246.21913628472223, 8.812170138888888, 246.21911892361112, 8.810004340277779, 246.21911892361112, 8.80997829861111, 8.809969618055556, 246.21213107638889, 8.809900173611112, 246.16287760416662, 8.802947048611111, 246.15036892361107, 8.80295138888889, 246.2104296875, 8.802712673611111, 8.80271701388889, 246.20510416666664, 8.802712673611111, 246.1976605902778, 9.626697048611112, 246.19759114583334, 9.644136284722222, 246.19759114583334, 8.85546875, 8.855381944444444, 246.19759114583334, 8.8465234375, 246.19759114583334, 8.847899305555556, 246.23105902777775, 9.616675347222222, 246.22994357638888, 9.595325520833333, 9.577348090277777, 246.21070312499998, 9.635260416666666, 246.21069444444444, 9.643168402777778, 246.21069444444444, 8.823515625, 246.21069444444444, 8.823433159722223, 8.8205859375, 246.21069444444444, 8.809105902777778, 246.15878906250003, 8.802096354166666, 246.162890625, 8.806983506944444, 246.22460069444443, 8.801874999999999, 8.801866319444445, 246.22290364583333, 8.801874999999999, 246.20974392361111, 9.644040798611112, 246.209609375, 9.636388888888888, 246.209609375, 8.8272265625, 8.827074652777778, 246.20971354166667, 8.819835069444444, 246.20973090277778, 8.810603298611111, 246.1698871527778, 8.803541666666666, 246.1495833333333, 8.80357204861111, 8.809752604166667, 246.2185590277778, 8.808033854166666, 246.21841145833332, 8.80357204861111, 246.21841579861112, 8.81341579861111, 246.21841579861112, 8.813389756944442, 8.812730034722222, 246.21115885416663, 8.809600694444445, 246.1682421875, 8.802569444444444, 246.1638802083333, 8.802569444444444, 246.22918836805553, 8.802339409722222, 8.80234375, 246.2291362847222, 8.802348090277778, 246.20763020833334, 9.663485243055554, 246.20762152777777, 9.6469921875, 246.20762152777777, 8.8447265625, 8.844596354166667, 246.20762152777777, 8.836692708333333, 246.20762152777777, 8.821362847222222, 246.1781467013889, 8.814869791666665, 246.1816015625, 8.814869791666665, 8.820364583333333, 246.2247439236111, 8.8146484375, 246.22466145833332, 8.814835069444445, 246.22466145833332, 8.822591145833334, 246.22466145833332, 8.822582465277776, 8.822582465277776, 246.2107986111111, 8.82286892361111, 246.15424913194445, 8.815911458333334, 246.16672309027777, 8.817235243055556, 246.22577256944442, 8.815694444444444, 8.815694444444444, 246.22573350694444, 8.815694444444444, 246.21043836805555, 9.618372395833333, 246.210390625, 9.643454861111111, 246.210390625, 8.82753472222222, 8.823498263888888, 246.21043836805555, 8.816302083333333, 246.21043836805555, 8.807144097222222, 246.17273003472224, 8.800121527777778, 246.16657552083333, 8.800121527777778, 8.80568142361111, 246.2227734375, 8.804639756944445, 246.2226909722222, 8.800121527777778, 246.2226779513889, 8.8087109375, 246.2226909722222, 8.808667534722222, 8.808020833333332, 246.21318576388887, 8.807630208333334, 246.1464236111111, 8.800746527777777, 246.1501519097222, 8.800711805555556, 246.2286328125, 8.800490451388887, 8.799835069444445, 246.2285373263889, 8.800490451388887, 246.2137890625, 9.628932291666665, 246.2138237847222, 9.640134548611112, 246.2137890625, 246.2137890625, 8.858433159722223, 246.2138237847222, 8.851575520833334, 246.2137890625, 9.268997395833333, 246.21055121527777, 9.269522569444444, 9.269496527777777, 246.21052951388887, 9.25671875, 246.2122178819444, 8.808368055555556, 246.18364583333334, 8.808289930555556, 246.182734375, 8.8062890625, 8.808064236111111, 246.22625, 8.8062890625, 246.22625868055556, 8.808289930555556, 246.22625868055556, 8.807717013888889, 246.22625868055556, 8.811328125, 8.811315104166665, 246.20463541666663, 8.806137152777778, 246.2229513888889, 8.804088541666667, 246.18157552083332, 8.804743923611111, 246.15962239583334, 8.804088541666667, 8.804075520833333, 246.15728732638888, 8.804088541666667, 246.19624999999996, 9.603953993055555, 246.19620225694445, 9.611254340277778, 246.19615885416667, 8.825186631944444, 8.823250868055556, 246.19615885416667, 8.81673611111111, 246.19615885416667, 8.820234375, 246.1731814236111, 8.820368923611111, 246.14488715277776, 8.820368923611111, 8.819600694444444, 246.22411458333335, 8.820164930555556, 246.22401475694446, 8.820164930555556, 246.22401475694446, 8.81267361111111, 246.22401475694446, 8.812647569444444, 8.811822916666667, 246.20557291666663, 8.810499131944445, 246.22328559027778, 8.803654513888889, 246.128046875, 8.80369357638889, 246.15994357638888, 8.803441840277777, 8.803428819444443, 246.15481336805556, 8.809522569444443, 246.18552083333333, 9.639596354166665, 246.18545572916668, 9.654483506944445, 246.18548177083332, 8.818463541666667, 8.81828125, 246.18545572916668, 8.8120703125, 246.18545572916668, 8.8120703125, 246.14792100694444, 8.817921006944445, 246.15678819444443, 8.812178819444442, 8.812222222222223, 246.22174913194442, 8.811957465277779, 246.22169704861108, 8.811966145833333, 246.22169704861108, 8.80755642361111, 246.22092013888886, 8.81341579861111, 8.811527777777778, 246.20552951388888, 8.8058984375, 246.22585503472223, 8.799019097222223, 246.16236979166666, 8.799019097222223, 246.13691840277778, 8.798819444444444, 8.798819444444444, 246.14284288194443, 8.798819444444444, 246.19851128472223, 9.627803819444445, 246.19842881944444, 9.613359375, 246.19842881944444, 8.819578993055556, 8.819370659722223, 246.19842881944444, 8.81318142361111, 246.19842881944444, 8.818793402777779, 246.1454904513889, 8.816306423611111, 246.16192708333332, 8.816306423611111, 8.81638888888889, 246.2268359375, 8.816085069444444, 246.22681423611112, 8.816085069444444, 246.22681423611112, 8.809830729166666, 246.22681423611112, 8.809813368055556, 8.8098046875, 246.21032552083332, 8.808407118055555, 246.22477430555554, 8.801493055555556, 246.15467881944443, 8.801488715277777, 246.15056857638888, 8.801267361111112, 8.801263020833334, 246.1555295138889, 8.807482638888889, 246.19390190972223, 9.666284722222223, 246.19396701388888, 9.623415798611111, 246.19396701388888, 8.8160546875, 8.815889756944445, 246.19396701388888, 8.808758680555556, 246.19396701388888, 8.808758680555556, 246.1794444444444, 8.815538194444445, 246.16343315972222, 8.8089453125, 8.808932291666666, 246.23899305555554, 9.118246527777778, 246.23889322916668, 9.653793402777778, 246.23889322916668, 8.819735243055554, 246.23871093749997, 8.821497395833333, 8.818615451388888, 246.23889322916668, 8.806675347222223, 246.16773003472218, 8.79970920138889, 246.19052083333332, 8.799700520833333, 246.20488715277776, 8.799487847222222, 8.799487847222222, 246.20232204861108, 8.799487847222222, 246.19456597222222, 9.635451388888889, 246.19446180555553, 9.635182291666666, 246.19446180555553, 8.827361111111111, 8.825863715277778, 246.19448784722223, 8.820681423611111, 246.19448784722223, 8.841050347222222, 246.17319010416665, 8.818463541666667, 246.18450520833332, 246.17483072916667, 8.813328993055556, 246.1701909722222, 8.812508680555556, 246.1621397569444, 8.806271701388889, 246.2121050347222, 8.80605034722222, 246.20024305555555, 246.20024739583334, 8.806371527777777, 246.19702256944444, 9.652313368055555, 246.19697482638887, 9.63823784722222, 246.19699652777777, 8.82924045138889, 8.827074652777778, 246.19699652777777, 8.819791666666667, 246.19697916666664, 8.826163194444444, 246.16305989583333, 8.823880208333334, 246.16940972222218, 8.822881944444443, 8.823055555555555, 246.21797309027778, 8.822660590277778, 246.2179296875, 8.822660590277778, 246.2179296875, 8.80890625, 246.2179296875, 8.808875868055555, 8.808858506944444, 246.21041666666665, 8.8073828125, 246.22425347222222, 8.800473090277778, 246.1704904513889, 8.800473090277778, 246.1952951388889, 8.8002734375, 8.801627604166667, 246.1903862847222, 8.8002734375, 246.19446180555553, 9.660034722222223, 246.19442708333332, 9.651002604166667, 246.19442708333332, 8.82419704861111, 8.822708333333333, 246.19442708333332, 8.81670138888889, 246.19442708333332, 8.81670138888889, 246.166484375, 8.823606770833333, 246.1634592013889, 8.816770833333333, 8.815512152777778, 246.22703559027778, 8.816536458333333, 246.2269574652778, 8.816549479166667, 246.2269574652778, 8.837734375, 246.22698784722223, 8.836714409722223, 8.836692708333333, 246.21000434027775, 8.814388020833333, 246.13796875, 8.807508680555554, 246.1543098958333, 8.807508680555554, 246.19994791666667, 8.807287326388888, 8.807287326388888, 246.19374131944446, 8.807287326388888, 246.19927951388888, 9.650381944444444, 246.19930555555555, 9.633411458333333, 246.19930555555555, 8.827699652777778, 8.824223090277778, 246.19930555555555, 8.818125, 246.19930555555555, 8.825651041666667, 246.16933159722223, 8.821180555555555, 246.18211805555555, 8.821623263888888, 8.822044270833333, 246.21847656249997, 8.821423611111111, 246.21838107638888, 8.821401909722221, 246.21838107638888, 8.8120703125, 246.21838975694442, 8.812044270833333, 8.812035590277778, 246.21221354166667, 8.811510416666666, 246.22788628472222, 8.804661458333333, 246.1786501736111, 8.804661458333333, 246.17946614583335, 8.804661458333333, 8.840911458333334, 246.1733159722222, 8.835611979166666, 246.14598090277778, 8.834127604166667, 246.15702256944445, 8.833667534722222, 246.15690538194445, 8.8346875, 8.834661458333333, 246.1860894097222, 9.62920138888889, 246.18602864583332, 9.624292534722223, 246.18602864583332, 8.830876736111112, 246.18602864583332, 8.830798611111112, 8.829388020833333, 246.18602864583332, 8.810598958333333, 246.13513020833332, 8.803524305555555, 246.14282118055553, 8.806575520833333, 246.23383246527777, 8.803302951388888, 8.802092013888888, 246.2338064236111, 8.803302951388888, 246.21188802083333, 9.650837673611111, 246.21187065972222, 9.64685763888889, 246.21187065972222, 8.824739583333333, 8.824561631944444, 246.21187065972222, 8.817226562499998, 246.21187065972222, 8.809084201388888, 246.14960069444444, 8.801922743055556, 246.14404947916665, 8.801922743055556, 8.808385416666667, 246.22368055555552, 8.801701388888889, 246.22314236111112, 8.810082465277778, 246.22314236111112, 8.810902777777779, 246.22314236111112, 8.810889756944444, 8.810889756944444, 246.20599826388886, 8.81150607638889, 246.15787760416666, 8.804583333333332, 246.15400607638887, 8.804583333333332, 246.22046006944444, 8.804370659722222, 8.804375, 246.22031684027777, 8.804370659722222, 246.20546875, 9.63517361111111, 246.20547743055556, 9.648155381944443, 246.20547743055556, 8.82644097222222, 8.829066840277777, 246.20546875, 8.819049479166667, 246.20546875, 8.80997829861111, 246.14504774305556, 8.803025173611111, 246.15497829861107, 8.803025173611111, 8.809201388888889, 246.22670138888887, 8.802695312499997, 246.22526475694445, 8.802916666666665, 246.22526475694445, 8.8099609375, 246.22526475694445, 246.22526041666666, 8.809956597222222, 246.21039930555557, 8.810598958333333, 246.22835503472223, 8.803532986111112, 246.1569921875, 8.805655381944444, 8.809722222222222, 246.23377170138886, 8.803311631944444, 246.2336892361111, 8.803532986111112, 246.2336892361111, 8.811532118055556, 246.2336892361111, 8.811519097222222, 8.810811631944444, 246.21497395833333, 8.811258680555556, 246.22401475694446, 8.804301215277778, 246.16755208333333, 8.804292534722222, 246.22977864583333, 8.804071180555555, 8.804071180555555, 246.2296657986111, 8.804071180555555, 246.21241319444445, 9.64214409722222, 246.21240885416665, 9.658077256944445, 246.212421875, 8.826675347222222, 8.826527777777779, 246.212421875, 8.819361979166667, 246.212421875, 8.8054296875, 246.15864149305554, 8.798563368055556, 246.15413628472223, 8.798550347222223, 8.804587673611111, 246.2193967013889, 8.798315972222222, 246.21935329861108, 8.798563368055556, 246.21935329861108, 8.806228298611112, 246.21936197916665, 8.806228298611112, 8.805503472222222, 246.20798611111107, 8.834852430555555, 246.1477170138889, 8.808177083333334, 246.16172309027777, 8.809683159722223, 246.1485286458333, 8.807730034722223, 8.806393229166664, 246.15788628472222, 8.805698784722223, 246.1736328125, 8.807217881944444, 246.17893663194442, 8.807031249999998, 246.18674479166665, 8.805069444444445, 8.805950520833333, 246.2329861111111, 8.805069444444445, 246.2325607638889, 8.805104166666666, 246.2325607638889, 8.808120659722222, 246.2325607638889, 8.808072916666667, 8.808051215277777, 246.21684895833332, 8.814027777777778, 246.2190451388889, 8.807122395833332, 246.1539409722222, 8.807122395833332, 246.22814670138888, 8.80708767361111, 8.8063671875, 246.22803385416665, 8.80712673611111, 246.21747395833333, 9.650286458333333, 246.21746527777776, 9.661124131944444, 246.21746527777776, 8.827291666666666, 8.825078125, 246.21746527777776, 8.817760416666667, 246.21746527777776, 8.817760416666667, 246.21746527777776, 8.823519965277777, 9.965234375, 9.967604166666666, 9.96759982638889, 9.96759982638889, 9.96759982638889, 9.96759982638889, 9.96759982638889, 9.96759982638889, 9.96759982638889, 9.96759982638889, 9.96759982638889, 9.96759982638889, 9.96759982638889, 9.96759982638889, 9.96759982638889, 9.96759982638889, 9.96759982638889, 9.96759982638889, 9.96759982638889, 9.96759982638889, 9.96759982638889, 9.96759982638889, 9.96759982638889, 9.973472222222222, 9.973472222222222, 9.9734765625, 9.9734765625, 9.9734765625, 9.9734765625, 9.9734765625, 9.9734765625, 9.9734765625, 9.9734765625, 9.9734765625, 9.9734765625, 9.974075520833333, 9.973958333333334, 9.9749609375, 9.975863715277777, 9.975863715277777, 9.975863715277777, 9.975863715277777, 9.975863715277777, 9.975863715277777, 9.975863715277777, 9.975863715277777, 9.972786458333333, 9.9763671875, 9.9763671875, 9.97662326388889, 9.976362847222223, 9.976362847222223, 9.976484375, 9.976271701388887, 9.976271701388887, 9.976271701388887, 9.976271701388887, 9.976271701388887, 9.976271701388887, 9.976271701388887, 9.976271701388887, 9.976610243055555, 9.976610243055555, 9.976610243055555, 9.976610243055555, 9.976610243055555, 9.976610243055555, 9.976610243055555, 9.976610243055555, 9.97775607638889, 9.977339409722223, 9.978138020833333, 9.978138020833333, 9.978224826388889, 9.978302951388887, 9.978302951388887, 9.9775390625, 9.977378472222222, 9.977378472222222, 9.977378472222222, 9.977378472222222, 9.977378472222222, 9.977378472222222, 9.977378472222222, 9.977378472222222, 9.977378472222222, 9.977378472222222, 9.977378472222222, 9.977378472222222, 9.977378472222222, 9.977378472222222, 9.977408854166667, 9.97861111111111, 9.978637152777777, 9.977074652777778, 9.977087673611111, 9.977256944444445, 9.977356770833333, 9.977252604166667, 9.977252604166667, 9.977374131944444, 9.977174479166665, 9.977174479166665, 9.977174479166665, 9.977174479166665, 9.977174479166665, 9.977430555555555, 9.9781640625, 9.9781640625, 9.9781640625, 9.9781640625, 9.9781640625, 9.9781640625, 9.9781640625, 9.9781640625, 9.979019097222222, 9.979014756944444, 9.979014756944444, 9.979014756944444, 189.8106632637636, 40.64056054267873, 189.92153525889736, 55.0749685660155, 204.97639837602347, 169.52075946891924, 40.56007189479204, 183.7771280088859, 40.57362187960902, 183.92083162680078, 54.706508543004695, 205.09596335079004, 168.59627776684223, 40.570359745927135, 182.7590083515486, 54.679262240194205, 182.37042179162097, 53.684504992529156, 205.09227633071583, 167.87056495529356, 40.109371725523594, 182.3894239657691, 53.78203843435148, 205.0437254494253, 53.70847803552885, 205.030481876092, 168.1626948615608, 40.24504825374324, 182.38440886868025, 53.65990680151432, 205.02669218288463, 168.5029074853898, 205.042797113909, 168.4968020523733, 40.21561524228528, 182.54857810919228, 53.600503534409, 205.0527648370129, 168.4969665410634, 40.75193496078132, 182.59994837191567, 40.044520262205886, 183.92148598888892, 53.681688095892014, 205.10517951933963, 167.5316056179568, 40.04517392933336, 183.64868957330475, 40.0448655741538, 183.68469786170579, 54.18199852810928, 205.08430934742063, 167.35834688882707, 40.0448655741538, 183.96812856228075, 54.212804680807736, 205.02657427444905, 53.83997728731777, 205.02664059612576, 169.5112653199953, 40.16394769884634, 184.3848380331633, 53.6378731224671, 205.02668087204117, 53.67445073080732, 205.0265668230199, 167.56901129551608, 40.23667777760724, 184.37362008602543, 53.61086400636973, 205.00329523453433, 167.57277759408106, 40.25428646624794, 167.5723494390999, 40.06165913711183, 185.26143546941634, 53.56429258262219, 205.01330838167902, 167.57194323655173, 40.66085280428073, 185.44082733057633, 40.397003377177896, 182.92911377533164, 53.56383193470227, 205.1007746727072, 167.82070849184885, 40.393570464357815, 183.6856604350135, 40.393313592494586, 183.6663139551724, 54.28342547216985, 205.0819410522736, 166.77586619620777, 40.39341904359951, 184.0013386898957, 54.332156664626645, 205.02963317345692, 53.908211504715204, 205.02964698866106, 169.64655829885976, 40.002161327126984, 184.38740833491147, 53.75403663200624, 205.02976631382228, 53.763507217656986, 205.02962385502755, 167.57176933008031, 40.27608699229969, 184.37629166416767, 53.60997409427035, 205.016632159728, 167.57470094495076, 40.2514300755551, 185.27483089304857, 40.12828186523897, 185.2986971330886, 53.600503534409, 205.01475873926677, 167.57370225188728, 40.75088574748008, 185.44565636992635, 40.23294104039257, 182.91328618525463, 53.681688095892014, 205.0984933872487, 167.2286219698375, 40.22435001612542, 183.62133838651164, 54.27297045555617, 58.16353432553776, 57.940240481176815, 205.04361204235545, 167.34477638944782, 40.2243641550983, 182.50242151585775, 54.451981790165796, 205.0435662555371, 53.39703413892412, 205.04359461894316, 166.59882247364408, 40.413246284152144, 182.5557597952434, 53.392709355232014, 205.1047942541619, 167.52326412434002, 205.06128725078642, 167.94122386272215, 40.23812487923369, 182.89506621582981, 53.39239367138328, 205.10391059754727, 167.7074377524483, 40.23356675729948, 183.81367666571566, 40.23342032974978, 183.67721365130393, 54.479260204036336, 205.10501546681894, 167.65575812168535, 40.000547207746884, 183.9469866090573, 39.99828210654434, 183.48536723876546, 53.85440523861948, 205.0434995085158, 167.8337178825583, 39.99891522013926, 182.4111337631594, 53.90565060916246, 205.04346749105622, 53.60398550743432, 205.04346318696986, 166.38657064383918, 40.946673341618535, 182.49156588807855, 53.598355095509405, 205.0973746094595, 53.59838054551786, 205.10327606591773, 166.54644123265092, 40.48054087249593, 183.96027436393618, 53.598432434863426, 205.10518601637247, 168.63584880886881, 40.47445043055205, 168.25307424763488, 40.47403920058273, 183.52002464223466, 54.6976406163695, 205.0420968732102, 166.3833053686173, 40.47403920058273, 182.60170621434386, 40.47403920058273, 182.54865320347173, 53.605511960426874, 205.04208023794234, 166.57417777881204, 40.98382412474694, 182.43320289516484, 53.601189789272084, 183.5273058689438, 53.60123026196863, 205.10400719931923, 167.30649277401602, 40.58460077111247, 183.65378065490933, 53.60111457071712, 205.10137131842305, 53.6012503425331, 205.04310809912747, 166.5106862608343, 40.58468242910741, 182.47402841744233, 54.6654514034926, 205.04306326776089, 53.60470599528886, 205.04309924281895, 166.61270412255664, 40.65901736893629, 182.55256288397473, 53.60030985558055, 205.1042378098772, 166.73396033410947, 40.66110871815951, 183.73854058276294, 40.65971933942854, 183.82861016310363, 53.6002851372286, 205.10723213198477, 166.98594385035642, 40.66097305580784, 183.57439059395256, 40.66103250656204, 183.81367538863483, 54.70329824602371, 205.08979199954453, 166.7712620090673, 40.66103250656204, 183.3461415389097, 54.54770854179073, 56.02894486017302, 55.824260732566074, 205.03263878774507, 169.54312774763713, 40.15608310852417, 183.7912529907209, 53.649688271116595, 205.03262969906535, 53.62091412724617, 205.03262745304568, 169.47182748455367, 40.83115371310311, 183.5880809187032, 53.61661388002662, 205.10912293314587, 170.172464146186, 40.59597036193651, 167.53096350733549, 40.58068284989713, 183.9654602176544, 53.61610162463602, 205.10358175378647, 168.85522868698408, 40.577953462599986, 183.9653992176455, 40.577504645465446, 183.50253454354527, 54.63759524429337, 205.0420968732102, 166.6155564832741, 40.577504645465446, 182.61474186346248, 40.577504645465446, 182.59721804597916, 53.59681781817083, 205.04208037405581, 166.52888886115548, 40.71594997034122, 182.42642589734058, 53.59266282871225, 205.10952864012393, 53.59228583019748, 205.09487119201154, 166.88011583658363, 40.818710924306544, 183.74255234611525, 53.85663808521569, 205.03463965985242, 53.70334662588703, 205.01933482517583, 168.3381593676444, 40.16639949221113, 183.7411684556857, 53.77655596464236, 205.03023098993566, 168.3501629486927, 40.144818143747884, 168.3524991850763, 40.11382931606511, 181.57815794917053, 54.25670201492243, 205.02097473077873, 168.35294284806264, 41.12016028619089, 181.56543990009413, 40.54985569620328, 183.62723375103775, 54.24387392071474, 205.09916834826916, 168.04636440182168, 40.220586910043494, 183.7841456631215, 54.11065383742582, 183.8457129260353, 54.10281609407214, 205.10082259062153, 168.15235556241356, 40.21961013050375, 183.3559668675329, 54.09282202812554, 205.03969669934554, 53.681977193210706, 205.03964080611266, 169.02626101566088, 40.19227305886447, 182.91747509161365, 53.68404632005113, 205.03964837914089, 167.52035197110948, 205.04009866635883, 168.7745213276358, 40.15326650725077, 183.1867292658939, 53.79106802933293, 205.01943933148934, 168.7929009014301, 40.14329376662762, 183.45941396838967, 40.0782813942065, 183.54248154277573, 54.24558531872558, 205.01298631717214, 168.7963008051056, 41.11961840039936, 183.40243624687474, 40.960421156119786, 183.93647949751443, 54.23024681707121, 205.10679898792432, 169.29981021182954, 40.65833020036782, 183.57351433043846, 54.56436006347306, 205.10234240837858, 54.62236537885673, 205.1033409837837, 166.73534437160004, 40.65805293728333, 183.17243986712484, 54.649039532476614, 205.0427235091849, 53.75283802855942, 205.0426596556788, 169.02491404801685, 40.1813614914547, 184.23629412091026, 53.74595620263681, 205.04269486611577, 166.59768832533442, 40.12765080847074, 168.14091361215588, 40.0436865751168, 184.28322018176863, 53.73671352617907, 205.0339123080444, 168.165766367762, 40.15826766566347, 183.1232000628058, 40.260999383729946, 183.22574322782697, 54.24558531872558, 205.0233413818219, 168.1668337910469, 41.09619517703729, 183.40754102150123, 40.95605043635092, 183.71690493510647, 54.23047400177299, 205.0989846265733, 169.33330032402588, 40.656018992519506, 183.55299516752683, 54.52895858581862, 205.1002877547596, 54.63329012498924, 205.1033409837837, 166.6866887633806, 40.65588980863461, 183.07027141873473, 54.5256573325218, 205.0421303919194, 53.82641978897176, 205.04207503057316, 169.03359076808502, 40.24167858505046, 184.2354288642686, 53.737735114000415, 205.0420506336499, 166.55231645101304, 40.13488788335047, 183.70119472730283, 40.04148882461061, 183.69717821403944, 53.63946611469155, 205.03810631415618, 167.447561069992, 40.2215538904887, 183.69717821403944, 40.114170241760256, 183.69717821403944, 54.2564142108779, 205.01604489004418, 167.4464073151318, 41.13211980599562, 185.70054574463003, 53.87420781245178, 56.272771507947326, 56.05191699274098, 205.08034136328806, 166.76020931951862, 40.06283213773394, 183.1129054884453, 53.87604535592566, 205.10420210472162, 53.875521060046125, 205.04021312635209, 169.04979199517945, 40.222747823620445, 183.13921927795988, 53.759643876500505, 205.03678305372333, 169.06673902808828, 205.0367211085292, 168.96922482905887, 40.13807093282522, 183.25534891041121, 53.51131535576857, 205.03671598943347, 169.00038574629968, 40.390835849178785, 183.00973237137777, 40.923023942115975, 183.39393870421006, 53.50645686216496, 205.09346788686406, 168.69852998095215, 40.66877300859402, 183.77410953795206, 40.66948203563151, 183.68385050716645, 54.92803594672786, 205.09248568707895, 169.61236311449127, 40.66948203563151, 182.70154165299346, 54.90798650804267, 205.08694960156183, 53.88911244641073, 205.08690674275977, 167.55301974144865, 40.8716590620265, 182.52013872290854, 53.62506013290796, 205.10355302661324, 53.6251193406797, 205.11080622756265, 169.90144488882493, 40.28944488287657, 183.9491346111373, 53.62519003082361, 205.11473898844017, 168.21813588111698, 40.272318364824876, 168.13784878397797, 40.590719763868165, 183.93636372561528, 54.73133733108052, 205.0688608863818, 168.9376718851923, 40.59050659840394, 182.72996298952768, 40.590719763868165, 182.78266405222308, 53.40756695751642, 205.0679682133888, 168.98168354124743, 40.45313975966721, 182.61254899711236, 39.95801468940074, 183.79525658686225, 53.40816539503246, 205.10042321225595, 168.3326855774916, 39.95245685508427, 183.6840741235543, 54.09342542662517, 205.0959850525096, 54.03650888492985, 205.07792503235643, 169.86311148868026, 39.950888402889106, 181.6965025074075, 54.024494760462396, 205.07760508196907, 53.82395590228428, 205.07656386382575, 168.91547093649322, 40.83982220711649, 181.07678419889282, 53.84345237208386, 205.10882972957845, 169.8326908464118, 40.849801532236505, 183.70885703488318, 40.63556166089825, 183.94765696288513, 53.84414519730806, 205.11446172387798, 168.21582112031425, 40.63553534358116, 183.36453840923036, 40.635628624620594, 183.66343638587878, 54.691013887202494, 205.1044602498985, 166.64301911012546, 40.635628624620594, 183.16760175903462, 54.50069011324497, 55.82371827791284, 55.61220390509023, 205.03624906112643, 169.36735404035338, 40.1520819995122, 183.55228908357861, 53.61496864275208, 205.03627584304095, 53.60626333053842, 205.03623942115274, 169.563547658057, 40.31147859342484, 183.59108176039638, 53.23463504733592, 205.1018387909599, 167.96653037950392, 40.2603231887074, 167.28043051036803, 40.86131285931429, 183.91637877077224, 53.21296960615492, 205.0993775513814, 168.4112023026914, 40.84262137726139, 183.88967781592095, 40.84392829188516, 183.87198719155157, 54.89885169720653, 205.07425397300025, 169.13219860300026, 40.84392829188516, 183.62425317096952, 40.84392829188516, 183.59464584591552, 53.53518471356896, 205.07128090415696, 167.9981750545986, 40.69270173961468, 183.65493308957096, 53.56369573631639, 205.1090985031536, 53.563324468656944, 205.11174399312887, 166.66736289892742, 40.533584962937304, 183.68254098836132, 53.61075768881096, 205.1071575837063, 53.60781204169232, 205.11027775514393, 166.87779246481193, 40.24965240388025, 183.6482279137608, 53.608474170602854, 205.10247409341503, 167.58514510897615, 40.24387642714803, 167.36256961718396, 40.24360403459889, 183.93110900072728, 54.17714879672414, 205.04596964578235, 166.8375791465101, 40.24360403459889, 183.3062617370022, 40.24360403459889, 183.34669075841882, 53.388250537407174, 205.0452135171463, 166.7282191772431, 40.58644748440047, 183.35963133692582, 53.38588065202138, 183.72066376688045, 53.38587791561845, 205.10269043419444, 167.80594273570833, 40.250631186801506, 183.21335364867687, 53.38571034220623, 205.09714852403485, 53.38571034220623, 205.07261409187115, 166.89247734335243, 40.25029419883734, 184.1874044364952, 54.27579173667185, 205.03216991058753, 169.79705294931276, 205.03212168672982, 169.80501183420722, 40.122245178974914, 184.41029177134348, 53.61452741144022, 205.0321261733115, 169.73885205537997, 40.63472163705515, 184.2487474959348, 40.63506139246201, 183.9148530663559, 53.61412327880327, 205.09995849791872, 168.98131196097555, 40.63010277667221, 183.8345739493496, 40.63000544723383, 183.5337779261567, 54.67709354303973, 205.0420968732102, 166.67831150118303, 40.63000544723383, 182.52663647103458, 54.618713002156845, 205.04205213921463, 53.58909785411708, 205.04208023794234, 166.58109531979164, 40.97874462115244, 182.5422190651671, 53.58334800958062, 205.10443584347928, 53.58312650908398, 205.09543997345946, 167.04979937685562, 40.46857475857882, 183.1609433301504, 53.58320301011936, 205.10543987899382, 168.61504206961143, 40.46585419823176, 168.5238905861543, 40.465573393058605, 183.5539339429445, 54.628892705305674, 205.0434995085158, 168.59874253092346, 40.465573393058605, 182.51453365588824, 40.465573393058605, 182.51224259344457, 53.58497987103667, 205.04346318696986, 166.633714910783, 40.97693400670419, 182.43788886650748, 40.571064042917314, 184.00051911071313, 53.5848813537173, 205.0963437336787, 168.8473955231871, 40.56873634853997, 183.57958811159955, 54.70063020192329, 205.10130269322025, 54.73219560291509, 205.04310809912747, 166.4759804657293, 40.568445893690274, 182.5286596107847, 54.72424449814553, 205.04306326776089, 53.584949135326085, 205.04309924281895, 166.53647602150593, 40.7938970755207, 182.55752552366852, 53.58195216531611, 205.09771055825553, 166.70919630480503, 40.91595363548573, 183.6968539982344, 40.58743518963553, 183.72669770406193, 53.58191574368864, 205.0976160706458, 168.91590448429682, 40.585582266423884, 183.3990997381409, 40.585523095123904, 183.95898303454717, 54.52685386576204, 205.04332189133115, 166.55874524708125, 40.585523095123904, 182.527801299898, 54.52638300102254, 182.52818712894998, 53.58438148828259, 205.04327249112222, 166.5736354042248, 40.705101945277676, 182.44477809776177, 53.57980839518636, 205.10099081312632, 53.57950509312363, 205.08833062515254, 168.1619214623099, 40.189868919133275, 183.444616505195, 53.78008479987396, 205.02265257023808, 168.16629733410895, 205.00087988290005, 168.16636169136126, 40.268199289207566, 181.94559727601592, 53.61306486542825, 205.0311464100373, 168.16636169136126, 40.62431737562061, 182.5032296452965, 40.64050841361191, 183.1178675197233, 53.61265848578502, 205.09971079925194, 168.72285437858878, 40.634487910926964, 183.55782987497872, 40.634222457441496, 183.65088869201094, 54.6207176103, 205.09174461585698, 169.51553320570417, 40.634222457441496, 183.06736318576935, 54.63446373784122, 205.05292133104382, 53.748980913958526, 205.05292893730353, 168.37159355886814, 40.11867159106387, 183.4119764260889, 53.75764120338855, 205.05288359596545, 53.76704684345133, 205.0528903228739, 167.84324544725163, 40.24657366128267, 183.3997758696522, 53.666497304231804, 205.0280450316978, 167.8475476295044, 40.1783299159918, 167.84789798390958, 40.147169665870145, 182.24920507935983, 53.61452741144022, 205.0030840811437, 167.84846604662323, 40.635683724491486, 182.0571646086767, 40.629395978000915, 182.9175731641237, 53.61412327880327, 205.1017431154988, 168.90967237402367, 40.62479037971942, 183.82676455901628, 40.62458094821304, 183.69464009226715, 54.65901926135596, 205.09174461585698, 166.53665891546538, 40.62458094821304, 183.1539097230212, 54.613943482074205, 205.0517814099804, 53.836435239449806, 205.0517885045396, 168.55957648425385, 40.22964774116703, 183.4119764260889, 53.75630547133986, 205.05174315575823, 53.74171943034061, 205.05174988377058, 167.84324544725163, 40.24106528961729, 183.3997758696522, 53.723440144680104, 205.01690471854414, 167.85379721132114, 40.239976294669816, 182.25391561037608, 40.15111604655237, 182.25147520614956, 53.61433707723165, 205.01117612433345, 167.85468030879193, 40.65279086093959, 181.9722659943748, 40.12706950744067, 182.94412374478722, 53.61395177499569, 205.09788971984395, 167.72424337687292, 40.126138696767576, 183.67492819153398, 53.61395177499569, 57.02716831274013, 56.788969927910124, 205.10951147654148, 166.68578270977372, 40.099478889457956, 183.5773470850054, 53.63770333571488, 205.09711549291356, 53.63732890190875, 205.10450424115217, 167.47279448077595, 40.64916989028163, 183.67537537788823, 53.63732890190875, 205.1133477454456, 168.46949455020692, 40.646085994888104, 168.2046569719748, 40.64594111926434, 183.7144057821588, 54.73035411110974, 205.0420968732102, 166.57184762871407, 40.64594111926434, 182.5647342609631, 40.64594111926434, 182.62287561499465, 53.610156917602325, 205.04208037405581, 166.58523692620008, 40.9247355476095, 182.46068787234404, 40.594485584152295, 183.98095529064813, 53.60942754807489, 205.10329821510857, 168.54117665556197, 40.58956871324888, 183.97040439772343, 54.714394757878146, 205.09837046588672, 54.52932456997608, 205.04310924709748, 166.6389384960111, 40.589016612485146, 182.55162071490864, 54.51885739505341, 205.04306438147816, 53.63007302160632, 205.0431004835538, 166.57768386954984, 40.7291073753166, 182.46672772664334, 53.626939584585294, 205.10253358851105, 169.99338426295117, 40.719152301214635, 167.40613728652787, 40.51910371041421, 183.06686081538956, 53.62721120634155, 205.1018327145856, 168.38268449783158, 40.51954242936645, 183.79578037117415, 40.51919204336679, 183.96502392669896, 54.548106794262964, 205.0420968732102, 166.62249113830742, 40.51908970665362, 182.59727609895708, 54.54532809241226, 182.58349900444497, 53.603605390819546, 205.04208037405581, 166.63709094369722, 40.54170555364644, 182.37683288572575, 53.59862014345726, 205.1049280742364, 53.59856912641585, 205.10674918520291, 167.40644464949466, 40.52809178844594, 183.15681327953797, 53.59851439834992, 205.1066281166995, 53.59847924138381, 205.04455696551184, 166.62081142784385, 40.52772042650499, 182.54614899279045, 54.58904075156039, 205.04080769050816, 168.95081407171423, 40.10013605381373, 182.55269216341705, 40.143546137411, 182.5782113137709, 53.61452741144022, 205.04081892796628, 168.70619384769122, 40.63511223280905, 14.191055602837725, 14.282207427620218, 14.284329244648331, 14.29047855373526, 14.289353119920484, 14.289269494927325, 14.289269494927325, 14.289269494927325, 14.289269494927325, 14.289269494927325, 14.289269494927325, 14.289269494927325, 14.303980411373455, 14.302913087243823, 14.303804823108436, 14.308431211764029, 14.307470716145922, 14.30820422308102, 14.308182521692409, 14.307462035590477, 14.308199882803297, 14.308191202247853, 14.307457695312754, 14.584236405997753, 14.55947936634347, 14.557447226603905, 14.607836543623643, 14.610201092566456, 14.610165273325691, 14.610257178758673, 14.61030790327574, 14.610207452962076, 14.61249412485095, 14.618231980752947, 14.61674326548373, 14.61679477071416, 14.61679477071416, 14.61679477071416, 14.61679477071416, 14.61679477071416, 14.61679477071416, 14.61679477071416, 14.61679477071416, 14.61679477071416, 14.61679477071416, 14.61679477071416, 14.61086742825364, 18.675408070451653, 18.660055476457405, 18.6609320563477, 18.661088306346873, 18.684033340937965, 18.68389115779679, 18.683882477241283, 18.683878136963532, 18.683878136963532, 18.689593692264996, 18.691285059314204, 18.691706066256337, 18.69102898292672, 18.692088010698683, 18.692088010698683, 18.692088010698683, 18.693945805757973, 18.69440153492214, 18.69440153492214, 18.69440153492214, 18.69440153492214, 18.69440153492214, 18.69440153492214, 18.69440153492214, 15.598663194444443, 15.599079861111111, 15.600394965277776, 15.591041666666667, 15.588446180555556, 15.588428819444443, 15.588424479166667, 15.588424479166667, 15.588424479166667, 15.587877604166664, 15.589683159722222, 15.589683159722222, 15.589683159722222, 15.589683159722222, 15.589683159722222, 15.589683159722222, 15.589683159722222, 15.589683159722222, 15.589683159722222, 15.589683159722222, 15.589683159722222, 15.589683159722222, 15.588736979166667, 15.587578124999999, 15.594830729166667, 15.59576388888889, 15.595316840277778, 15.590004340277778, 15.589466145833331, 15.589448784722222, 15.588190104166667, 15.588190104166667, 15.588190104166667, 15.588289930555554, 15.588289930555554, 15.588289930555554, 15.588289930555554, 15.588763020833333, 15.588780381944444, 15.588780381944444, 15.588780381944444, 15.588780381944444, 15.588780381944444, 15.588780381944444, 15.588780381944444, 15.588780381944444, 15.588129340277776, 15.5880859375, 15.593350694444444, 15.598068576388888, 15.597556423611111, 15.590030381944445, 15.588953993055556, 15.588953993055556, 15.587712673611112, 15.587612847222223, 15.587612847222223, 15.587864583333333, 15.587864583333333, 15.587864583333333, 15.587864583333333, 15.587864583333333, 15.587864583333333, 15.587864583333333, 15.587864583333333, 15.587864583333333, 15.587864583333333, 15.587912326388889, 15.587912326388889, 15.586801215277777, 15.586796874999997, 15.586796874999997, 15.592907986111111, 15.59997829861111, 15.599639756944445, 15.589240451388887, 15.588589409722223, 15.58857204861111, 15.587521701388889, 15.587404513888888, 15.587404513888888, 15.587443576388889, 15.587339409722222, 15.587339409722222, 15.587339409722222, 15.587339409722222, 15.588094618055555, 15.5876953125, 15.587656249999998, 15.587651909722222, 15.587651909722222, 15.587651909722222, 15.587651909722222, 15.585186631944444, 15.585321180555555, 15.585329861111111, 15.594062499999998, 15.596527777777778, 15.594557291666664, 15.587764756944445, 15.588250868055555, 15.588289930555554, 15.585646701388887, 15.585638020833333, 15.585638020833333, 15.58453125, 15.593072916666667, 15.59322048611111, 15.597825520833334, 15.595577256944445, 15.596302083333333, 15.596310763888887, 15.598111979166667, 15.598111979166667, 15.598111979166667, 15.598111979166667, 15.598111979166667, 15.598111979166667, 15.59998263888889, 15.600138888888889, 15.589596354166666, 15.589665798611112, 15.59976128472222, 15.59828125, 15.599739583333333, 15.599869791666666, 15.599500868055554, 15.600794270833333, 15.600789930555555, 15.601380208333333, 15.601380208333333, 15.601380208333333, 15.600685763888889, 15.600677083333334, 15.600672743055556, 15.598645833333334, 15.598645833333334, 15.598645833333334, 15.598645833333334, 15.603077256944443, 15.604049479166667, 15.604049479166667, 15.60423611111111, 15.604210069444443, 15.6002734375, 15.608394097222222, 15.611219618055554, 15.614839409722222, 15.615121527777777, 15.612048611111112, 15.614171006944444, 15.611219618055554, 15.611150173611112, 15.610034722222222, 15.610355902777776, 15.610390625, 15.610516493055556, 15.598194444444445, 15.596731770833333, 15.585546875, 15.588858506944442, 15.588094618055555, 15.589483506944445, 15.590546875, 15.590546875, 15.590546875, 15.58872829861111, 15.588680555555554, 14.610264756944444, 14.609778645833334, 14.609730902777779, 14.608485243055556, 14.578003472222223, 14.577703993055554, 14.577638888888888, 14.577656249999999, 14.577656249999999, 14.577656249999999, 14.586336805555556, 14.586341145833334, 14.581523437499998, 14.581497395833333, 14.581497395833333, 14.581497395833333, 14.581497395833333, 14.581497395833333, 14.577569444444443, 14.57631076388889, 14.576306423611111, 14.578207465277778, 14.578207465277778, 14.578207465277778, 15.370238715277775, 15.3709375, 15.3681640625, 15.369596354166667, 15.369557291666666, 15.368138020833333, 15.371601562499999, 15.371601562499999, 15.371601562499999, 15.371558159722222, 15.372013888888889, 15.372256944444445, 15.368993055555556, 15.36896701388889, 15.36896267361111, 15.368958333333332, 15.36654079861111, 15.366536458333334, 15.365559895833334, 15.36606770833333, 15.36606770833333, 15.36606770833333, 15.36606770833333, 15.378815104166664, 15.402647569444444, 15.408559027777779, 15.407994791666665, 15.406445312500002, 15.404557291666665, 15.40454861111111, 15.40447048611111, 15.40447048611111, 15.40447048611111, 15.404631076388888, 15.409809027777776, 15.409809027777776, 15.40730034722222, 62.45370659722222, 182.92239149305553, 62.701909722222226, 183.0028081597222, 62.70789930555556, 183.05016927083332, 62.70831163194444, 183.02631510416666, 62.717686631944446, 183.02743489583332, 62.70815104166667, 183.81632378472221, 63.427960069444445, 183.7056640625, 63.520321180555555, 183.71853732638888, 63.50030381944445, 183.73130208333333, 63.542048611111106, 183.73724392361112, 63.545481770833334, 183.7467404513889, 63.536549479166666, 183.74130642361112, 63.54633246527778, 183.78952256944444, 63.54494357638889, 183.9132204861111, 63.540546875, 183.93327256944445, 63.59054253472222, 183.79073350694443, 63.60033854166666, 183.78936197916667, 63.59338107638889, 183.78619357638888, 63.48757378472222, 183.65321614583334, 63.55255642361111, 183.7134939236111, 63.56652777777778, 183.7252126736111, 63.59310763888888, 183.72033420138888, 63.59006510416666, 183.72333333333333, 63.585056423611114, 183.79537326388888, 63.59809895833333, 183.80154513888888, 63.6028125, 183.72102430555555, 63.599639756944434, 183.72029947916664, 63.620112847222224, 183.7131467013889, 63.61372829861111, 183.75754774305557, 63.606640625, 183.66210503472223, 63.808702256944436, 183.59833333333333, 64.03463975694444, 183.62682725694444, 64.0603125, 183.65502170138885, 64.01525173611111, 183.65144965277779, 64.03182291666667, 183.75463541666667, 64.06660590277778, 183.65110243055557, 64.06710069444445, 183.65091579861112, 64.0687109375, 183.6863498263889, 64.08169270833334, 183.73923177083333, 64.07834201388889, 183.7537109375, 64.13505208333333, 183.68764322916667, 64.13588975694445, 183.6216579861111, 63.76090711805555, 183.3672873263889, 63.95435329861111, 183.36962673611112, 63.94056423611111, 183.32713541666666, 183.33608940972223, 63.936701388888885, 183.35020833333334, 63.96911892361111, 183.45272135416664, 63.94711371527778, 183.5763107638889, 63.94255642361111, 183.57296875, 63.940447048611105, 183.54798177083333, 63.94711371527778, 183.56194444444444, 63.945329861111105, 183.5629644097222, 64.1443359375, 183.564375, 63.28749131944444, 182.73851128472222, 63.49212239583333, 182.71373697916667, 63.50252604166666, 182.65223958333334, 63.58700954861111, 182.6690234375, 63.52848090277777, 182.71266493055552, 63.52245225694445, 182.72741753472224, 63.55563368055555, 182.72326822916668, 63.49230902777777, 182.78260416666666, 63.61518663194444, 182.78112847222224, 63.61184027777778, 182.79259114583334, 63.589544270833336, 182.84853732638888, 63.533125, 182.85471354166665, 63.27385416666666, 182.67064670138885, 63.57358072916666, 182.57897135416667, 63.55034288194444, 182.62554253472223, 63.53079861111111, 182.62563368055552, 63.52076822916666, 182.71868489583332, 63.54049045138889, 182.73124131944445, 63.54521701388888, 182.7263237847222, 63.59592013888888, 182.786796875, 63.582873263888885, 182.77735677083334, 63.53325954861111, 182.7869357638889, 63.52673177083334, 182.8145876736111, 63.60997829861111, 182.82041232638886, 63.25716579861111, 182.63824652777777, 63.55130208333333, 182.58918836805555, 63.5289453125, 182.6191623263889, 63.533116319444446, 182.63521701388888, 63.52567274305556, 182.6621875, 63.526979166666656, 182.67697048611112, 63.57313802083333, 182.6630512152778, 63.59768663194444, 182.71938802083332, 63.5450564236111, 182.7125, 63.56175347222222, 182.71890625, 63.56258246527778, 182.78564236111112, 63.56016059027777, 182.79361111111112, 63.202747395833335, 63.18595052083333, 182.6234678819444, 63.448580729166665, 182.6787109375, 63.25111979166666, 182.73881510416666, 63.265551215277775, 182.75416666666663, 63.20534722222222, 182.773671875, 63.20545138888889, 182.89444878472221, 63.21287326388889, 182.91677083333335, 63.22173611111111, 182.93047743055556, 63.22247395833333, 182.92976996527779, 63.22151909722221, 182.91682725694446, 63.22630208333333, 183.00304253472223, 63.225733506944444, 183.66696180555553, 63.65445746527777, 183.37777777777774, 63.76580295138889, 183.5077126736111, 63.835538194444446, 183.46085937499998, 63.82557725694444, 183.48307725694443, 63.91785590277778, 183.54375, 63.92650173611111, 183.58483940972224, 63.920703125, 183.55963975694445, 63.966835937499994, 183.54481770833334, 63.96921006944444, 183.59467447916666, 63.972569444444446, 183.62721354166663, 63.974683159722225, 183.6453732638889, 63.980078125, 183.6681597222222, 63.82585503472222, 183.38993055555557, 63.93157118055556, 183.46821180555557, 63.9755078125, 183.47259548611112, 63.95821614583333, 183.51881510416666, 63.96821180555555, 183.490234375, 63.96827256944444, 183.51755208333333, 63.97374131944444, 183.57085069444443, 63.967860243055554, 183.77909288194445, 64.128828125, 183.779453125, 64.10340711805556, 183.78258680555555, 64.07441406249998, 183.78356770833332, 63.95491753472222, 183.82315538194445, 63.754900173611105, 183.73059027777776, 63.88109375, 183.52049045138887, 63.922022569444444, 183.45268663194443, 63.9058984375, 183.52582465277777, 63.950082465277774, 183.52202690972223, 63.95808159722222, 183.5615017361111, 63.962855902777775, 183.54731770833334, 63.95574652777778, 183.59468315972222, 63.96583767361111, 183.57616753472223, 183.583828125, 63.96185763888889, 183.6181467013889, 63.96163194444444, 183.59534288194442, 63.15037326388889, 182.77839409722222, 63.394696180555556, 182.7451736111111, 63.54299479166666, 182.6792925347222, 63.52760416666667, 182.7145703125, 63.54430121527778, 182.73526475694445, 63.532547743055545, 182.76710069444442, 63.55268663194444, 182.75479166666665, 63.54175347222222, 182.79089409722224, 63.62588541666667, 182.8063628472222, 63.50761284722222, 182.8228125, 63.576297743055555, 182.83445746527778, 63.5349609375, 182.85848090277779, 63.29396701388888, 182.65872395833333, 63.49881510416667, 182.73436197916666, 63.50562934027778, 182.70711805555555, 63.508198784722225, 182.71850260416667, 63.51618055555556, 182.72997395833335, 63.54644965277778, 182.7421527777778, 63.50459635416666, 182.728984375, 63.53757378472222, 182.765, 63.59905815972222, 182.7583810763889, 63.60331163194444, 182.778984375, 63.525837673611115, 182.78606770833332, 63.558355034722226, 182.81121961805556, 63.26369357638889, 182.6661328125, 63.47125434027778, 182.7353298611111, 63.49266059027777, 182.70463541666666, 63.50223524305555, 182.71178385416667, 63.49384548611111, 182.73371961805555, 63.58180555555555, 182.74718315972223, 63.508663194444445, 182.74407118055555, 63.57259982638889, 182.7663064236111, 63.542725694444435, 182.7601736111111, 63.57703559027778, 182.77684027777778, 63.50127170138889, 182.78667968749997, 63.559231770833335, 182.81360677083333, 63.2453515625, 182.66090277777778, 63.48151475694444, 182.74246093749997, 63.39918402777778, 182.7165147569444, 63.56156684027778, 182.72059027777777, 63.489800347222214, 182.73950086805553, 63.5214453125, 182.74772135416663, 63.47266493055555, 63.31381944444445, 182.74574652777775, 63.512690972222224, 182.77018229166666, 63.31285156249999, 182.7585980902778, 63.319210069444445, 182.7850390625, 63.31555121527778, 182.96282552083332, 63.31904513888889, 183.71217881944443, 63.656779513888885, 183.43203125, 63.82067274305555, 183.46255642361112, 63.90250434027778, 183.4537934027778, 63.878155381944445, 183.5618315972222, 63.88430555555556, 183.48280381944446, 63.91026475694444, 183.5380034722222, 63.900377604166664, 183.5534027777778, 63.911562499999995, 183.60536458333334, 63.928294270833334, 183.57612413194445, 63.92951388888889, 183.62797743055555, 63.930889756944445, 183.83223958333335, 64.08280381944445, 183.8586545138889, 63.776705729166665, 183.7415234375, 64.06682291666667, 183.68145399305556, 64.07374131944445, 183.67014756944445, 64.10174913194444, 183.67571614583332, 64.06461371527777, 183.66865885416667, 64.13065972222222, 183.66756510416667, 64.10424045138889, 183.66521701388888, 64.10029947916667, 183.69383246527778, 64.09372395833333, 183.69376302083333, 64.11947916666666, 183.69364583333333, 64.07737413194444, 183.7308767361111, 64.13015190972222, 183.8144748263889, 63.815950520833326, 183.6693402777778, 64.05128038194445, 183.65909722222221, 64.10310763888889, 183.64484809027778, 64.06032986111111, 183.64826822916666, 64.08542100694444, 183.66740885416667, 64.07563368055555, 183.6659895833333, 64.09757378472223, 183.66433593749997, 64.12168402777777, 183.6992751736111, 64.15733072916667, 183.69922309027777, 64.14236545138888, 183.69921875, 64.0859765625, 183.72940972222221, 64.14536024305555, 183.8148611111111, 63.804301215277775, 183.66869357638888, 64.05095052083334, 183.65901909722223, 64.06474826388887, 183.6423871527778, 183.64758680555556, 64.03034288194445, 183.65575086805555, 64.06210503472222, 183.6570920138889, 64.08923177083334, 183.6545355902778, 64.13374131944444, 183.6707248263889, 64.08891493055556, 183.6706423611111, 64.11535590277778, 183.6706423611111, 64.07853732638888, 183.71407552083335, 64.10754774305556, 183.7140407986111, 63.22183159722222, 182.7729296875, 63.52310329861111, 182.72887152777778, 63.49502604166667, 182.70207899305552, 63.57370225694444, 182.72928385416665, 63.46719184027778, 182.72342447916665, 63.5022265625, 182.73131944444444, 63.55497395833333, 182.72141059027777, 63.52622395833333, 182.78365451388885, 63.553072916666665, 182.77358506944444, 63.57694878472221, 182.78031684027778, 63.570559895833334, 182.862265625, 63.57008246527778, 182.8674826388889, 63.3073046875, 182.67659288194446, 63.49613715277778, 182.74769965277778, 63.46028645833334, 182.6852387152778, 63.48538194444444, 182.70506944444443, 63.539340277777775, 182.72622829861112, 63.54972222222222, 182.79661458333334, 63.52989149305556, 182.78514756944443, 63.576809895833335, 182.79413628472219, 63.564852430555554, 182.87935329861108, 63.52384114583333, 182.87956597222222, 63.5559765625, 182.87687499999998, 63.56256510416666, 182.96066840277777, 63.23994357638889, 182.7235980902778, 63.504600694444434, 182.79671875, 63.47664496527778, 182.69813368055554, 63.485147569444436, 182.70577256944443, 63.487690972222225, 182.71190538194443, 63.514309895833335, 182.79696614583332, 63.531328125, 182.78801215277778, 63.54795138888889, 182.7966796875, 63.574032118055555, 182.86095920138888, 63.54194010416666, 182.86659288194443, 63.553359375, 182.86474826388888, 63.54285590277778, 182.94907986111107, 63.21754774305555, 63.14743489583333, 182.71356336805556, 63.52025173611111, 182.78857638888888, 63.42491319444444, 182.87643663194444, 63.29302083333334, 182.89098524305555, 63.29709635416666, 182.907890625, 63.18036892361111, 182.88654947916666, 63.183146701388885, 182.91092013888888, 63.18246527777778, 182.91442708333332, 63.17600260416667, 182.92572048611112, 63.17513888888888, 182.97923611111108, 63.175190972222225, 182.97354600694445, 63.176762152777776, 183.72911024305554, 63.592196180555554, 183.39963975694445, 63.77025173611111, 183.4556814236111, 63.841796875, 183.42828124999997, 63.847751736111114, 183.53461805555557, 63.84953993055556, 183.5406640625, 63.979296875, 183.45972222222218, 63.975885416666664, 183.5220486111111, 63.97782552083333, 183.55811197916665, 63.972369791666665, 183.58240017361112, 63.9733984375, 183.55503472222222, 63.97036892361111, 183.57079427083335, 63.984370659722224, 183.67865885416666, 63.8141015625, 183.328125, 63.92995225694444, 183.45950520833333, 63.979466145833335, 183.46799913194445, 63.97039496527777, 183.50749565972222, 63.96769097222222, 183.55273003472223, 63.97080295138889, 183.5467144097222, 9.543664825927383, 9.5438849931925, 9.543890563582034, 9.550795348410203, 9.552726661479092, 9.552727392478799, 9.552791902315398, 9.552790910515192, 9.55278892692091, 9.553332871351621, 9.554904782661996, 9.554908680148847, 9.550371725840849, 9.552192243678663, 9.552192243678663, 9.555894747824555, 9.55593543510568, 9.55593543510568, 9.555653022686156, 9.566611889156901, 9.565861421309208, 9.576509431253296, 9.57542552415387, 9.574453032440127, 9.5655144377282, 9.569336668699304, 9.56935798220859, 9.57792404336301, 9.578644370858148, 9.578965439795331, 9.576315791091913, 9.576194856046667, 9.576194856046667, 9.575671978841784, 9.581860636561153, 9.581957643534698, 9.593328038706114, 9.592347481139607, 9.592347481139607, 9.592318802190666, 9.592318802190666, 9.592318802190666, 9.591990846357936, 9.588615615544018, 9.588519682397092, 9.586423798008257, 9.589009737781, 9.589668734670152, 10.472080544799054, 10.478468443797428, 10.478569939352838, 10.482586427631398, 10.482525068287053, 10.482537800778596, 10.481459772376686, 10.48198245465354, 10.481959367479998, 10.485422877223957, 10.485398786459983, 10.486123926308993, 10.486124901014227, 10.486313725414014, 10.486335586275668, 10.486965401295514, 10.487387162282907, 10.487228573109503, 10.487580330825491, 10.489264712042502, 10.489266523180062, 10.489262306656064, 10.489105647010629, 10.489105647010629, 8.526067521259725, 8.526457503009086, 8.526444894363708, 8.535637021696871, 8.53683450280381, 8.536828198446605, 8.537029448019576, 8.534370775411665, 8.534407159838771, 8.530185088307283, 8.530113779978839, 8.528670555654662, 8.531605524941051, 8.5308552113859, 8.529749278972476, 8.528618120543747, 8.527774834517906, 8.527764714859616, 8.528948706642472, 8.536284714362631, 8.53539043133451, 8.531130747996997, 8.531867957481063, 8.531627602509301, 9.462933720939658, 9.464396440674552, 9.464388792125584, 9.465676352067321, 9.480488460133941, 9.48023139316307, 9.48021636672023, 9.48021636672023, 9.48021636672023, 9.481944654004883, 9.48248716287802, 9.482455938717974, 9.483800415089222, 9.484545274257075, 9.484515117723229, 9.485090895119175, 9.482858664912737, 9.482853757474809, 9.482793550325502, 9.482768743712088, 9.482768743712088, 9.482836935295875, 9.480033251705315, 9.478674883826635, 8.542719985406643, 8.539847997076611, 8.539803114253345, 8.54180702352212, 8.541818021170116, 8.541823692835683, 8.541821762725, 8.541821762725, 8.541821762725, 8.540623375846087, 8.53636989240118, 8.53641654963023, 8.534291362149824, 8.534265135535966, 8.534257668857343, 8.534175351673998, 8.534175359866717, 8.534175359866717, 8.533433294897078, 8.53800800429732, 8.537990092545678, 8.53831948511378, 8.53853661240867, 8.539656923832892, 8.509406028210934, 8.509438307703283, 8.509445540809256, 8.510102143582227, 8.510873157409339, 8.511437644158384, 8.509943156895428, 8.510181141644294, 8.510153635932133, 8.50897713158174, 8.506203223720396, 8.506102024473009, 8.506264702671864, 8.50630340721764, 8.50630340721764, 8.506343853508143, 8.506585525895318, 8.507362716362975, 8.506940081907024, 8.506979989779724, 8.506975831389044, 8.506957412881082, 8.507125574568377, 8.50709887423906, 8.497335447019209, 8.51013254211308, 8.508354725828841, 8.507932733514666, 8.508096979957172, 8.508096979957172, 8.508181954180031, 8.508288434760669, 8.508288434760669, 8.508117285019724, 8.50671389872896, 8.506700816937915, 8.505744798207418, 8.505781770886758, 8.505781770886758, 8.505978850418405, 8.496712488491161, 8.4972488010246, 8.49567632567301, 8.49567632567301, 8.49567632567301, 8.496461506557427, 8.49633400453821, 8.496641472624205, 8.498966615535021, 8.497844663373398, 8.497829632887363, 8.49709831667942, 8.49709831667942, 8.49709831667942, 8.49513220738437, 8.4946880385197, 8.493958965752402, 8.494020235450781, 8.494022343468824, 8.494022343468824, 8.494022343468824, 8.493685048017099, 8.493711395819144, 8.493777451724556, 8.496106883827116, 8.496304657465421, 8.497752078856971, 8.497762973858757, 8.499186156260294, 8.498701417034795, 8.49877789458957, 8.498787317651178, 8.503830203271065, 8.502583451975273, 8.502553883799898, 8.502508465502567, 8.503077558049503, 8.503077558049503, 8.503106282252617, 8.503106282252617, 8.503106282252617, 8.503087693391102, 8.50316413538694, 8.503142880689548, 8.50068712750479, 8.499753463864653, 8.499984281873944, 8.499924385569539, 8.49651799779975, 8.496551602949985, 8.49683689932, 8.498037696824511, 8.49703706400395, 8.496736948290868, 8.496509286013495, 8.497222960459677, 8.501933077745727, 8.500742933609546, 8.500750379547206, 8.50140788270527, 8.500361055299871, 8.500053016841372, 8.500033974839981, 8.500033974839981, 8.500033974839981, 8.500033974839981, 8.4990396690118, 8.498934744857731, 8.498930873745742, 8.498999673533284, 8.498999673533284, 8.4988841706054, 8.49889847003711, 8.49889847003711, 8.49847178797232, 8.497566844009663, 8.49727312274142, 8.497367028865854, 8.497362576493808, 8.496821453679697, 8.49844786495411, 8.497963872623318, 8.498419530243643, 8.497301297827663, 8.497292088153191, 8.496573875397184, 8.496573875397184, 8.496573875397184, 8.496573875397184, 8.495047404589544, 8.495047404589544, 8.495047404589544, 8.495047404589544, 8.494721696003186, 8.49471846346492, 8.495475170244067, 8.495475170244067, 8.495475170244067, 8.495475170244067, 8.494445029130137, 8.494758230874945, 8.494758230874945, 8.494758230874945, 8.494758230874945, 8.4987978963921, 8.494026408894596, 8.494026408894596, 8.494026408894596, 8.494026408894596, 8.494026408894596, 8.494026408894596, 8.494026408894596, 8.494026408894596, 8.494026408894596]\n"
     ]
    }
   ],
   "source": [
    "print(porygon)"
   ]
  },
  {
   "cell_type": "code",
   "execution_count": null,
   "metadata": {
    "collapsed": true
   },
   "outputs": [],
   "source": []
  }
 ],
 "metadata": {
  "kernelspec": {
   "display_name": "Python 3",
   "language": "python",
   "name": "python3"
  },
  "language_info": {
   "codemirror_mode": {
    "name": "ipython",
    "version": 3
   },
   "file_extension": ".py",
   "mimetype": "text/x-python",
   "name": "python",
   "nbconvert_exporter": "python",
   "pygments_lexer": "ipython3",
   "version": "3.6.3"
  },
  "varInspector": {
   "cols": {
    "lenName": 16,
    "lenType": 16,
    "lenVar": 40
   },
   "kernels_config": {
    "python": {
     "delete_cmd_postfix": "",
     "delete_cmd_prefix": "del ",
     "library": "var_list.py",
     "varRefreshCmd": "print(var_dic_list())"
    },
    "r": {
     "delete_cmd_postfix": ") ",
     "delete_cmd_prefix": "rm(",
     "library": "var_list.r",
     "varRefreshCmd": "cat(var_dic_list()) "
    }
   },
   "types_to_exclude": [
    "module",
    "function",
    "builtin_function_or_method",
    "instance",
    "_Feature"
   ],
   "window_display": false
  }
 },
 "nbformat": 4,
 "nbformat_minor": 2
}
